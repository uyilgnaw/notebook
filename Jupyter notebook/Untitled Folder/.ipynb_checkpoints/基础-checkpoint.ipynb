{
 "cells": [
  {
   "cell_type": "code",
   "execution_count": 3,
   "metadata": {
    "scrolled": true
   },
   "outputs": [
    {
     "name": "stdout",
     "output_type": "stream",
     "text": [
      " I love %a\n"
     ]
    }
   ],
   "source": []
  },
  {
   "cell_type": "code",
   "execution_count": 10,
   "metadata": {},
   "outputs": [
    {
     "ename": "ValueError",
     "evalue": "incomplete format",
     "output_type": "error",
     "traceback": [
      "\u001b[1;31m---------------------------------------------------------------------------\u001b[0m",
      "\u001b[1;31mValueError\u001b[0m                                Traceback (most recent call last)",
      "\u001b[1;32m<ipython-input-10-f905e9298a45>\u001b[0m in \u001b[0;36m<module>\u001b[1;34m()\u001b[0m\n\u001b[1;32m----> 1\u001b[1;33m \u001b[0mprint\u001b[0m\u001b[1;33m(\u001b[0m\u001b[1;34m\"I love %\"\u001b[0m \u001b[1;33m%\u001b[0m \u001b[1;34m\"ludan\"\u001b[0m\u001b[1;33m)\u001b[0m\u001b[1;33m\u001b[0m\u001b[0m\n\u001b[0m",
      "\u001b[1;31mValueError\u001b[0m: incomplete format"
     ]
    }
   ],
   "source": [
    "print(\"I love %\" % \"ludan\")"
   ]
  },
  {
   "cell_type": "code",
   "execution_count": 12,
   "metadata": {},
   "outputs": [
    {
     "name": "stdout",
     "output_type": "stream",
     "text": [
      "I love mrking\n"
     ]
    }
   ],
   "source": [
    "print(\"I love %s\"%\"mrking\")"
   ]
  },
  {
   "cell_type": "markdown",
   "metadata": {},
   "source": [
    "## 利用百分号格式化\n",
    "    - 在字符串中，利用%表示一个特殊的含义，表示对字符进行格式化\n",
    "    - %d 此处应该放入一个整数\n",
    "    - %s 此处应该放入一个字符串"
   ]
  },
  {
   "cell_type": "markdown",
   "metadata": {},
   "source": [
    "# 啊师傅\n",
    " ## 撒地方a\n",
    "  #### 真的假的"
   ]
  },
  {
   "cell_type": "markdown",
   "metadata": {},
   "source": [
    " - 则会那个\n",
    "     - 增\n",
    "          -撒发生法师打\n",
    "                  -  阿斯蒂芬\n",
    "                      - 撒地方as"
   ]
  },
  {
   "cell_type": "code",
   "execution_count": 13,
   "metadata": {},
   "outputs": [
    {
     "name": "stdout",
     "output_type": "stream",
     "text": [
      "I love you 王立宇\n"
     ]
    }
   ],
   "source": [
    "s=\"I love you %s\"\n",
    "print(s%\"王立宇\")"
   ]
  },
  {
   "cell_type": "code",
   "execution_count": 14,
   "metadata": {},
   "outputs": [
    {
     "ename": "SyntaxError",
     "evalue": "invalid syntax (<ipython-input-14-e8d90c7f1f98>, line 1)",
     "output_type": "error",
     "traceback": [
      "\u001b[1;36m  File \u001b[1;32m\"<ipython-input-14-e8d90c7f1f98>\"\u001b[1;36m, line \u001b[1;32m1\u001b[0m\n\u001b[1;33m    print(s%)\u001b[0m\n\u001b[1;37m            ^\u001b[0m\n\u001b[1;31mSyntaxError\u001b[0m\u001b[1;31m:\u001b[0m invalid syntax\n"
     ]
    }
   ],
   "source": [
    "print(s%)"
   ]
  },
  {
   "cell_type": "code",
   "execution_count": 15,
   "metadata": {},
   "outputs": [
    {
     "name": "stdout",
     "output_type": "stream",
     "text": [
      "I love mrking\n"
     ]
    }
   ],
   "source": [
    "s= \"I love {}\".format(\"mrking\")\n",
    "print(s)"
   ]
  },
  {
   "cell_type": "code",
   "execution_count": 2,
   "metadata": {},
   "outputs": [
    {
     "name": "stdout",
     "output_type": "stream",
     "text": [
      "mrking\n",
      "我的最爱mrking\n",
      "liyu\n",
      "不约\n",
      "ludan\n",
      "不约\n",
      "拉闸\n"
     ]
    }
   ],
   "source": [
    "for name in ['mrking','liyu','ludan']:\n",
    "    print(name)\n",
    "    if name =='mrking':\n",
    "        print(\"我的最爱{0}\".format(name))\n",
    "    else:\n",
    "        print(\"不约\")\n",
    "else:\n",
    "        print(\"拉闸\")"
   ]
  },
  {
   "cell_type": "code",
   "execution_count": 4,
   "metadata": {},
   "outputs": [
    {
     "name": "stdout",
     "output_type": "stream",
     "text": [
      "1\n",
      "2\n",
      "3\n",
      "4\n",
      "5\n",
      "6\n",
      "7\n",
      "8\n",
      "9\n"
     ]
    }
   ],
   "source": [
    "for i in range(1,10):\n",
    "    print(i)"
   ]
  },
  {
   "cell_type": "code",
   "execution_count": 9,
   "metadata": {},
   "outputs": [
    {
     "ename": "SyntaxError",
     "evalue": "invalid syntax (<ipython-input-9-bc8f148eeee5>, line 5)",
     "output_type": "error",
     "traceback": [
      "\u001b[1;36m  File \u001b[1;32m\"<ipython-input-9-bc8f148eeee5>\"\u001b[1;36m, line \u001b[1;32m5\u001b[0m\n\u001b[1;33m    print(i1 & \"*\"  j1 & \"=\" & i1*j1)\u001b[0m\n\u001b[1;37m                     ^\u001b[0m\n\u001b[1;31mSyntaxError\u001b[0m\u001b[1;31m:\u001b[0m invalid syntax\n"
     ]
    }
   ],
   "source": [
    "i1=1\n",
    "j1=1\n",
    "for i in range(1,10):\n",
    "    for j in range(1,10):\n",
    "        print(i1 & \"*\"  j1 & \"=\" & i1*j1)\n",
    "        "
   ]
  },
  {
   "cell_type": "code",
   "execution_count": 6,
   "metadata": {},
   "outputs": [
    {
     "name": "stdout",
     "output_type": "stream",
     "text": [
      "9\n"
     ]
    },
    {
     "ename": "TypeError",
     "evalue": "'<=' not supported between instances of 'str' and 'int'",
     "output_type": "error",
     "traceback": [
      "\u001b[1;31m---------------------------------------------------------------------------\u001b[0m",
      "\u001b[1;31mTypeError\u001b[0m                                 Traceback (most recent call last)",
      "\u001b[1;32m<ipython-input-6-dc421da2f676>\u001b[0m in \u001b[0;36m<module>\u001b[1;34m()\u001b[0m\n\u001b[0;32m     14\u001b[0m \u001b[1;33m\u001b[0m\u001b[0m\n\u001b[0;32m     15\u001b[0m \u001b[1;33m\u001b[0m\u001b[0m\n\u001b[1;32m---> 16\u001b[1;33m \u001b[0mb\u001b[0m\u001b[1;33m(\u001b[0m\u001b[1;33m)\u001b[0m\u001b[1;33m\u001b[0m\u001b[0m\n\u001b[0m",
      "\u001b[1;32m<ipython-input-6-dc421da2f676>\u001b[0m in \u001b[0;36mb\u001b[1;34m()\u001b[0m\n\u001b[0;32m      8\u001b[0m \u001b[1;32mdef\u001b[0m \u001b[0mb\u001b[0m\u001b[1;33m(\u001b[0m\u001b[1;33m)\u001b[0m\u001b[1;33m:\u001b[0m\u001b[1;33m\u001b[0m\u001b[0m\n\u001b[0;32m      9\u001b[0m     \u001b[0ma\u001b[0m\u001b[1;33m=\u001b[0m\u001b[0minput\u001b[0m\u001b[1;33m(\u001b[0m\u001b[1;33m)\u001b[0m\u001b[1;33m\u001b[0m\u001b[0m\n\u001b[1;32m---> 10\u001b[1;33m     \u001b[1;32mif\u001b[0m \u001b[0ma\u001b[0m \u001b[1;33m<=\u001b[0m\u001b[1;36m0\u001b[0m\u001b[1;33m:\u001b[0m\u001b[1;33m\u001b[0m\u001b[0m\n\u001b[0m\u001b[0;32m     11\u001b[0m         \u001b[0mprint\u001b[0m\u001b[1;33m(\u001b[0m\u001b[1;34m\"你输入的不对，重新输入\"\u001b[0m\u001b[1;33m)\u001b[0m\u001b[1;33m\u001b[0m\u001b[0m\n\u001b[0;32m     12\u001b[0m         \u001b[0mb\u001b[0m\u001b[1;33m(\u001b[0m\u001b[1;33m)\u001b[0m\u001b[1;33m\u001b[0m\u001b[0m\n",
      "\u001b[1;31mTypeError\u001b[0m: '<=' not supported between instances of 'str' and 'int'"
     ]
    }
   ],
   "source": [
    "def fei(a):\n",
    "    if a==1:\n",
    "        return 1\n",
    "    if a==2:\n",
    "        return 1\n",
    "    return fei(a-1)+fei(a-2)\n",
    "\n",
    "def b():\n",
    "    a=input()\n",
    "    if a <=0:\n",
    "        print(\"你输入的不对，重新输入\")\n",
    "        b()\n",
    "    else\n",
    "\n",
    "\n",
    "b()"
   ]
  },
  {
   "cell_type": "code",
   "execution_count": null,
   "metadata": {},
   "outputs": [],
   "source": []
  },
  {
   "cell_type": "code",
   "execution_count": 22,
   "metadata": {},
   "outputs": [
    {
     "data": {
      "text/plain": [
       "34"
      ]
     },
     "execution_count": 22,
     "metadata": {},
     "output_type": "execute_result"
    }
   ],
   "source": [
    "def fei(a):\n",
    "    if a==1:\n",
    "        return 1\n",
    "    if a==2:\n",
    "        return 1\n",
    "    return fei(a-1)+fei(a-2)\n",
    "\n",
    "fei(9)"
   ]
  },
  {
   "cell_type": "code",
   "execution_count": null,
   "metadata": {},
   "outputs": [],
   "source": []
  },
  {
   "cell_type": "code",
   "execution_count": 19,
   "metadata": {},
   "outputs": [
    {
     "name": "stdout",
     "output_type": "stream",
     "text": [
      "-4\n",
      "<class 'str'>\n",
      "你输入的不对，重新输入\n",
      "-3\n",
      "<class 'str'>\n",
      "你输入的不对，重新输入\n",
      "2\n",
      "<class 'str'>\n"
     ]
    }
   ],
   "source": [
    "def b():\n",
    "    m=input()\n",
    "    print(type(m))\n",
    "    a=int(m)\n",
    "    if a <= 0:\n",
    "        print(\"你输入的不对，重新输入\")\n",
    "        b()\n",
    "b()"
   ]
  },
  {
   "cell_type": "code",
   "execution_count": 26,
   "metadata": {},
   "outputs": [
    {
     "name": "stdout",
     "output_type": "stream",
     "text": [
      "-2\n",
      "你输入的不对，重新输入\n",
      "3\n",
      "2\n"
     ]
    },
    {
     "ename": "RecursionError",
     "evalue": "maximum recursion depth exceeded in comparison",
     "output_type": "error",
     "traceback": [
      "\u001b[1;31m---------------------------------------------------------------------------\u001b[0m",
      "\u001b[1;31mRecursionError\u001b[0m                            Traceback (most recent call last)",
      "\u001b[1;32m<ipython-input-26-2ab7ff04e420>\u001b[0m in \u001b[0;36m<module>\u001b[1;34m()\u001b[0m\n\u001b[0;32m     13\u001b[0m         \u001b[0mb\u001b[0m\u001b[1;33m(\u001b[0m\u001b[1;33m)\u001b[0m\u001b[1;33m\u001b[0m\u001b[0m\n\u001b[0;32m     14\u001b[0m     \u001b[0mprint\u001b[0m\u001b[1;33m(\u001b[0m\u001b[0mfei\u001b[0m\u001b[1;33m(\u001b[0m\u001b[0ma\u001b[0m\u001b[1;33m)\u001b[0m\u001b[1;33m)\u001b[0m\u001b[1;33m\u001b[0m\u001b[0m\n\u001b[1;32m---> 15\u001b[1;33m \u001b[0mb\u001b[0m\u001b[1;33m(\u001b[0m\u001b[1;33m)\u001b[0m\u001b[1;33m\u001b[0m\u001b[0m\n\u001b[0m",
      "\u001b[1;32m<ipython-input-26-2ab7ff04e420>\u001b[0m in \u001b[0;36mb\u001b[1;34m()\u001b[0m\n\u001b[0;32m     12\u001b[0m         \u001b[0mprint\u001b[0m\u001b[1;33m(\u001b[0m\u001b[1;34m\"你输入的不对，重新输入\"\u001b[0m\u001b[1;33m)\u001b[0m\u001b[1;33m\u001b[0m\u001b[0m\n\u001b[0;32m     13\u001b[0m         \u001b[0mb\u001b[0m\u001b[1;33m(\u001b[0m\u001b[1;33m)\u001b[0m\u001b[1;33m\u001b[0m\u001b[0m\n\u001b[1;32m---> 14\u001b[1;33m     \u001b[0mprint\u001b[0m\u001b[1;33m(\u001b[0m\u001b[0mfei\u001b[0m\u001b[1;33m(\u001b[0m\u001b[0ma\u001b[0m\u001b[1;33m)\u001b[0m\u001b[1;33m)\u001b[0m\u001b[1;33m\u001b[0m\u001b[0m\n\u001b[0m\u001b[0;32m     15\u001b[0m \u001b[0mb\u001b[0m\u001b[1;33m(\u001b[0m\u001b[1;33m)\u001b[0m\u001b[1;33m\u001b[0m\u001b[0m\n",
      "\u001b[1;32m<ipython-input-26-2ab7ff04e420>\u001b[0m in \u001b[0;36mfei\u001b[1;34m(a)\u001b[0m\n\u001b[0;32m      4\u001b[0m     \u001b[1;32mif\u001b[0m \u001b[0ma\u001b[0m\u001b[1;33m==\u001b[0m\u001b[1;36m2\u001b[0m\u001b[1;33m:\u001b[0m\u001b[1;33m\u001b[0m\u001b[0m\n\u001b[0;32m      5\u001b[0m         \u001b[1;32mreturn\u001b[0m \u001b[1;36m1\u001b[0m\u001b[1;33m\u001b[0m\u001b[0m\n\u001b[1;32m----> 6\u001b[1;33m     \u001b[1;32mreturn\u001b[0m \u001b[0mfei\u001b[0m\u001b[1;33m(\u001b[0m\u001b[0ma\u001b[0m\u001b[1;33m-\u001b[0m\u001b[1;36m1\u001b[0m\u001b[1;33m)\u001b[0m\u001b[1;33m+\u001b[0m\u001b[0mfei\u001b[0m\u001b[1;33m(\u001b[0m\u001b[0ma\u001b[0m\u001b[1;33m-\u001b[0m\u001b[1;36m2\u001b[0m\u001b[1;33m)\u001b[0m\u001b[1;33m\u001b[0m\u001b[0m\n\u001b[0m\u001b[0;32m      7\u001b[0m \u001b[1;32mdef\u001b[0m \u001b[0mb\u001b[0m\u001b[1;33m(\u001b[0m\u001b[1;33m)\u001b[0m\u001b[1;33m:\u001b[0m\u001b[1;33m\u001b[0m\u001b[0m\n\u001b[0;32m      8\u001b[0m     \u001b[0mm\u001b[0m\u001b[1;33m=\u001b[0m\u001b[0minput\u001b[0m\u001b[1;33m(\u001b[0m\u001b[1;33m)\u001b[0m\u001b[1;33m\u001b[0m\u001b[0m\n",
      "... last 1 frames repeated, from the frame below ...\n",
      "\u001b[1;32m<ipython-input-26-2ab7ff04e420>\u001b[0m in \u001b[0;36mfei\u001b[1;34m(a)\u001b[0m\n\u001b[0;32m      4\u001b[0m     \u001b[1;32mif\u001b[0m \u001b[0ma\u001b[0m\u001b[1;33m==\u001b[0m\u001b[1;36m2\u001b[0m\u001b[1;33m:\u001b[0m\u001b[1;33m\u001b[0m\u001b[0m\n\u001b[0;32m      5\u001b[0m         \u001b[1;32mreturn\u001b[0m \u001b[1;36m1\u001b[0m\u001b[1;33m\u001b[0m\u001b[0m\n\u001b[1;32m----> 6\u001b[1;33m     \u001b[1;32mreturn\u001b[0m \u001b[0mfei\u001b[0m\u001b[1;33m(\u001b[0m\u001b[0ma\u001b[0m\u001b[1;33m-\u001b[0m\u001b[1;36m1\u001b[0m\u001b[1;33m)\u001b[0m\u001b[1;33m+\u001b[0m\u001b[0mfei\u001b[0m\u001b[1;33m(\u001b[0m\u001b[0ma\u001b[0m\u001b[1;33m-\u001b[0m\u001b[1;36m2\u001b[0m\u001b[1;33m)\u001b[0m\u001b[1;33m\u001b[0m\u001b[0m\n\u001b[0m\u001b[0;32m      7\u001b[0m \u001b[1;32mdef\u001b[0m \u001b[0mb\u001b[0m\u001b[1;33m(\u001b[0m\u001b[1;33m)\u001b[0m\u001b[1;33m:\u001b[0m\u001b[1;33m\u001b[0m\u001b[0m\n\u001b[0;32m      8\u001b[0m     \u001b[0mm\u001b[0m\u001b[1;33m=\u001b[0m\u001b[0minput\u001b[0m\u001b[1;33m(\u001b[0m\u001b[1;33m)\u001b[0m\u001b[1;33m\u001b[0m\u001b[0m\n",
      "\u001b[1;31mRecursionError\u001b[0m: maximum recursion depth exceeded in comparison"
     ]
    }
   ],
   "source": [
    "def fei(a):\n",
    "    if a==1:\n",
    "        return 1\n",
    "    if a==2:\n",
    "        return 1\n",
    "    return fei(a-1)+fei(a-2)\n",
    "def b():\n",
    "    m=input()\n",
    "   # print(type(m))\n",
    "    a=int(m)\n",
    "    if a <= 0:\n",
    "        print(\"你输入的不对，重新输入\")\n",
    "        b()\n",
    "    print(fei(a))\n",
    "b()"
   ]
  },
  {
   "cell_type": "code",
   "execution_count": null,
   "metadata": {},
   "outputs": [],
   "source": [
    "def fei(a):\n",
    "    if a==1:\n",
    "        return 1\n",
    "    if a==2:\n",
    "        return 1\n",
    "    return fei(a-1)+fei(a-2)\n",
    "def b():\n",
    "    m=input()\n",
    "   # print(type(m))\n",
    "    a=int(m)\n",
    "    if a <= 0:\n",
    "        print(\"你输入的不对，重新输入\")\n",
    "        b()\n",
    "    print(fei(a))\n",
    "b()"
   ]
  },
  {
   "cell_type": "code",
   "execution_count": 4,
   "metadata": {},
   "outputs": [
    {
     "data": {
      "text/plain": [
       "{}"
      ]
     },
     "execution_count": 4,
     "metadata": {},
     "output_type": "execute_result"
    }
   ],
   "source": [
    "class a():\n",
    "        name = \"mrking\"\n",
    "        age = 14\n",
    "aa=a()\n",
    "aa.__dict__\n",
    "#a.__dict__"
   ]
  },
  {
   "cell_type": "code",
   "execution_count": 5,
   "metadata": {},
   "outputs": [],
   "source": [
    "class a():\n",
    "    def fget(self):\n",
    "            return self._name * 2\n",
    "    def fset(self,name):\n",
    "            self._name=name.upper()\n",
    "    def fdel(self):\n",
    "            self._name=\"尼玛\"\n",
    "    name=property(fget,fset,fdel,\"呵呵哒\")\n",
    "    "
   ]
  },
  {
   "cell_type": "code",
   "execution_count": 6,
   "metadata": {},
   "outputs": [
    {
     "name": "stdout",
     "output_type": "stream",
     "text": [
      "MRKINGMRKING\n"
     ]
    }
   ],
   "source": [
    "a1=a()\n",
    "a1.name=\"mrking\"\n",
    "print(a1.name)"
   ]
  },
  {
   "cell_type": "code",
   "execution_count": 12,
   "metadata": {},
   "outputs": [],
   "source": [
    "class b():\n",
    "    \n",
    "    def fget(self):\n",
    "            return self._age\n",
    "    def fset(self,age):\n",
    "            self._age=int(age)\n",
    "            #取整方式有很多种，cell（向上取整）\n",
    "            #int（向下取整）\n",
    "            #round（四舍五入）\n",
    "    def fdel(self):\n",
    "            self._age=\"尼玛\"\n",
    "    age = property(fget,fset,fdel,\"呵呵哒\")"
   ]
  },
  {
   "cell_type": "code",
   "execution_count": 13,
   "metadata": {},
   "outputs": [
    {
     "name": "stdout",
     "output_type": "stream",
     "text": [
      "19\n"
     ]
    }
   ],
   "source": [
    "b1=b()\n",
    "b1.age=19.2\n",
    "print(b1.age)"
   ]
  },
  {
   "cell_type": "code",
   "execution_count": 13,
   "metadata": {},
   "outputs": [
    {
     "name": "stdout",
     "output_type": "stream",
     "text": [
      "哈哈，我被调用了\n",
      "我又被调用了\n",
      "我的例子\n",
      "我的例子\n"
     ]
    }
   ],
   "source": [
    "class A ():\n",
    "        #相当于构造函数，魔法函数\n",
    "    def __init__(self,name=0):\n",
    "        print(\"哈哈，我被调用了\")\n",
    "        #当对象被当作函数调用时\n",
    "    def __call__(self):\n",
    "        print(\"我又被调用了\")\n",
    "        #当对象被当作结果输出时\n",
    "    def __str__(self):\n",
    "        return \"我的例子\"\n",
    "        #__str__显示的更友好，__repr__面向程序员，__str__面向用户\n",
    "    def __repr__(self):\n",
    "        return \"我的例子\"\n",
    "a=A()\n",
    "a()\n",
    "a\n",
    "a\n",
    "print(a)\n",
    "print(a)"
   ]
  },
  {
   "cell_type": "code",
   "execution_count": 24,
   "metadata": {},
   "outputs": [
    {
     "data": {
      "text/plain": [
       "mappingproxy({'__module__': '__main__',\n",
       "              '__set__': <function __main__.B.__set__(self)>,\n",
       "              '__get__': <function __main__.B.__get__(self)>,\n",
       "              '__delete__': <function __main__.B.__delete__(self)>,\n",
       "              'name': <property at 0x2198bf84d18>,\n",
       "              '__dict__': <attribute '__dict__' of 'B' objects>,\n",
       "              '__weakref__': <attribute '__weakref__' of 'B' objects>,\n",
       "              '__doc__': None})"
      ]
     },
     "execution_count": 24,
     "metadata": {},
     "output_type": "execute_result"
    }
   ],
   "source": [
    "class B():\n",
    "    def __set__(self):\n",
    "        print(\"set\")\n",
    "    def __get__(self):\n",
    "        print(\"get\")\n",
    "    def __delete__(self):\n",
    "        print(\"delete\")\n",
    "    name=property(__set__,__get__,__delete__,\"真的假的\")\n",
    "b=B()\n",
    "#b.name\n",
    "dir(b)\n",
    "b.__dict__\n",
    "B.__dict__\n"
   ]
  },
  {
   "cell_type": "code",
   "execution_count": 40,
   "metadata": {},
   "outputs": [],
   "source": [
    "class Attr(object):\n",
    "    def __init__(self,attrname,attrtype):\n",
    "        self.attrname=attrname\n",
    "        self.attrtype=attrtype\n",
    "    def __get__(self,instance,value): \n",
    "        return instance.__dict__[self.attrname]   \n",
    "    def __set__(self,instance,value):\n",
    "        if not isinstance(value,self.attrtype):\n",
    "             raise TypeError(\"%s type error\"%self.attrname)    \n",
    "        instance.__dict__[self.attrname]=value\n",
    "    def __delete__(self,instance):    \n",
    "        del instance.__dict__[self.attrname]\n",
    "        print(\"删除成功\")\n",
    "\n",
    "class Person(object):\n",
    "    name=Attr(\"name\",str)\n",
    "    age=Attr(\"age\",int)        \n",
    "p=Person()\n",
    "p.age=23\n",
    "del p"
   ]
  },
  {
   "cell_type": "code",
   "execution_count": 42,
   "metadata": {},
   "outputs": [],
   "source": [
    "#代码 1\n",
    "\n",
    "class Desc(object):\n",
    "    \n",
    "    def __get__(self, instance, owner):\n",
    "        print(\"__get__...\")\n",
    "        print(\"self : \\t\\t\", self)\n",
    "        print(\"instance : \\t\", instance)\n",
    "        print(\"owner : \\t\", owner)\n",
    "        print('='*40, \"\\n\")\n",
    "        \n",
    "    def __set__(self, instance, value):\n",
    "        print('__set__...')\n",
    "        print(\"self : \\t\\t\", self)\n",
    "        print(\"instance : \\t\", instance)\n",
    "        print(\"value : \\t\", value)\n",
    "        print('='*40, \"\\n\")\n",
    "\n",
    "    def __delete__(self,instance):\n",
    "        print('__delete__')\n",
    "        print(\"self:\\t\\t\",self)\n",
    "        print(\"instance:\\t\",instance)\n",
    "        print(\"value:\\t\",value)\n",
    "        print('='*40,\"\\n\")\n",
    "class TestDesc(object):\n",
    "    x = Desc()\n",
    "\n",
    "#以下为测试代码\n",
    "t = TestDesc()\n",
    "del t\n",
    "\n",
    "\n"
   ]
  },
  {
   "cell_type": "code",
   "execution_count": 43,
   "metadata": {},
   "outputs": [],
   "source": [
    "#__getattr__函数的作用：如果属性查找（attribute lookup）在实例以及对应的类中（通过__dict__）\n",
    "#失败，那么会调用到类的__getattr__函数，如果没有定义这个函数，那么抛出atrributeerror异常\n",
    "#由此可见，__getattr__一定是作用于属性查找的最后一步，兜底。\n",
    "#访问一个不存在的属性时触发"
   ]
  },
  {
   "cell_type": "code",
   "execution_count": 44,
   "metadata": {},
   "outputs": [
    {
     "name": "stdout",
     "output_type": "stream",
     "text": [
      "没找到\n",
      "addr\n",
      "None\n"
     ]
    }
   ],
   "source": [
    "class A():\n",
    "    name=\"NoName\"\n",
    "    age =18\n",
    "    def __getattr__(self,name):\n",
    "        print(\"没找到\")\n",
    "        print(name)\n",
    "a=A()\n",
    "print(a.addr)\n",
    "\n",
    "        "
   ]
  },
  {
   "cell_type": "code",
   "execution_count": 45,
   "metadata": {},
   "outputs": [
    {
     "name": "stdout",
     "output_type": "stream",
     "text": [
      "{}\n",
      "{'__module__': '__main__', '__init__': <function Person.__init__ at 0x000002198BFB5400>, '__setattr__': <function Person.__setattr__ at 0x000002198BFB5378>, '__dict__': <attribute '__dict__' of 'Person' objects>, '__weakref__': <attribute '__weakref__' of 'Person' objects>, '__doc__': None}\n",
      "设置属性：age\n"
     ]
    }
   ],
   "source": [
    "class Person():\n",
    "    def __init__(self):\n",
    "        pass\n",
    "    def __setattr__(self,name,value):\n",
    "        print(\"设置属性：{0}\".format(name))\n",
    "        #此语句会造成死循环\n",
    "        #self.name=value \n",
    "        #此语句相当于子类重写父类的方法\n",
    "        super().__setattr__(name,value)\n",
    "p=Person()\n",
    "print(p.__dict__)\n",
    "print(Person.__dict__)\n",
    "p.age=55\n"
   ]
  },
  {
   "cell_type": "code",
   "execution_count": 92,
   "metadata": {},
   "outputs": [
    {
     "name": "stdout",
     "output_type": "stream",
     "text": [
      "哈哈卢丹会比王立宇大吗\n",
      "False\n"
     ]
    }
   ],
   "source": [
    "class A():\n",
    "    def __init__(self,name):\n",
    "        self._name=name\n",
    "    \n",
    "    \n",
    "    def __gt__(self,obj):\n",
    "        print(\"哈哈{0}会比{1}大吗\".format(self._name,obj._name))\n",
    "        return self._name >obj._name\n",
    "    #def __str__(self):\n",
    "       # return \"哈哈，{0}会比{1}大吗\".format(self._name)    \n",
    "a1=A(\"卢丹\")\n",
    "a2=A(\"王立宇\")\n",
    "print(a1 > a2)"
   ]
  },
  {
   "cell_type": "code",
   "execution_count": 1,
   "metadata": {},
   "outputs": [
    {
     "name": "stdout",
     "output_type": "stream",
     "text": [
      "哈哈卢丹会比王立宇大吗\n",
      "False\n"
     ]
    }
   ],
   "source": [
    "class A():\n",
    "    def __init__(self,name):\n",
    "        self._name=name\n",
    "    \n",
    "    \n",
    "    def __gt__(self,obj):\n",
    "        print(\"哈哈{0}会比{1}大吗\".format(self._name,obj._name))\n",
    "        return self._name >obj._name\n",
    "    #def __str__(self):\n",
    "       # return \"哈哈，{0}会比{1}大吗\".format(self._name)    \n",
    "a1=A(\"卢丹\")\n",
    "a2=A(\"王立宇\")\n",
    "print(a1 > a2)"
   ]
  },
  {
   "cell_type": "code",
   "execution_count": 3,
   "metadata": {},
   "outputs": [
    {
     "name": "stdout",
     "output_type": "stream",
     "text": [
      "king会比mrking大吗\n",
      "False\n"
     ]
    }
   ],
   "source": [
    "class Person():\n",
    "    def __init__(self,name):\n",
    "            self._name=name\n",
    "    def __gt__(self,you):\n",
    "            print(\"{0}会比{1}大吗\".format(self._name,you._name))\n",
    "            return self._name>you._name\n",
    "p1=Person(\"king\")\n",
    "p2=Person(\"mrking\")\n",
    "print(p1>p2)"
   ]
  },
  {
   "cell_type": "code",
   "execution_count": 6,
   "metadata": {},
   "outputs": [
    {
     "name": "stdout",
     "output_type": "stream",
     "text": [
      "Eating....\n",
      "playing......\n"
     ]
    }
   ],
   "source": [
    "class Person():\n",
    "    #这是实例方法\n",
    "    #实例方法类对象不能进行调用\n",
    "    def eat (self):\n",
    "        print(\"Eating....\")\n",
    "    #这是类方法\n",
    "    #第一个参数最好用cls进行区分\n",
    "    @classmethod\n",
    "    def play(cls):\n",
    "        print(\"playing......\")\n",
    "    #这是静态方法\n",
    "    #不需要一个第一个参数表示自身或者类\n",
    "    @staticmethod\n",
    "    def drink():\n",
    "        print(\"Dringing....\")\n",
    "pp=Person()\n",
    "pp.eat()\n",
    "#Person.eat()\n",
    "Person.play()"
   ]
  },
  {
   "cell_type": "markdown",
   "metadata": {},
   "source": []
  },
  {
   "cell_type": "code",
   "execution_count": 7,
   "metadata": {},
   "outputs": [],
   "source": [
    "import abc\n",
    "'''\n",
    "抽象类：\n",
    "    ·抽象方法：没有具体实现内容的方法称为抽象方法\n",
    "    ·抽象方法的主要意义是为了规范子类的行为个接口\n",
    "    ·抽象类的使用需要借助abc模块\n",
    "    抽象类：包含抽象方法的类叫抽象类，通常为ABC类\n",
    "    抽象类的使用\n",
    "        ·抽象类可以包含抽象方法和普通方法\n",
    "        ·抽象类中可以有方法也可以有属性\n",
    "        ·抽象类不允许实例化\n",
    "        ·必须继承才可以使用，且继承的子类必须实现所有继承来的抽象方法\n",
    "        ·假定子类没有实现所有继承的抽象方法，则子类也不能被实例化\n",
    "        ·抽象类的主要作用是设定类的标准，以便于开发的时候具有统一的规范s\n",
    "'''\n",
    "class Human(metaclass=abc.ABCMeta):\n",
    "    @abc.abstractmethod\n",
    "    def smoking(self):\n",
    "        pass\n",
    "    @abc.abstractclassmethod\n",
    "    def drink():\n",
    "        pass\n",
    "    @abc.abstractstaticmethod\n",
    "    def play():\n",
    "        pass\n",
    "    "
   ]
  },
  {
   "cell_type": "code",
   "execution_count": 11,
   "metadata": {},
   "outputs": [
    {
     "name": "stdout",
     "output_type": "stream",
     "text": [
      "Saying......\n",
      "Saying......\n"
     ]
    }
   ],
   "source": [
    "class A():\n",
    "    pass\n",
    "#函数名可以当变量使用，将函数赋值给变量之后，被赋值的变量可以称为函数，也可以被称为变量\n",
    "def say(self):\n",
    "    print(\"Saying......\")\n",
    "say(9)\n",
    "a=A()\n",
    "A.say=say\n",
    "a.say()"
   ]
  },
  {
   "cell_type": "code",
   "execution_count": 13,
   "metadata": {},
   "outputs": [
    {
     "name": "stdout",
     "output_type": "stream",
     "text": [
      "Saying......\n"
     ]
    }
   ],
   "source": [
    "from types import MethodType\n",
    "'''\n",
    "自定义类\n",
    "类其实是一个类定义和各种方法的自由组合\n",
    "可以定义类和函数，然后自己通过类直接赋值\n",
    "可以借助于MethodType实现\n",
    "借助于type实现\n",
    "'''\n",
    "class A():\n",
    "    pass\n",
    "def say(self):\n",
    "    print(\"Saying......\")\n",
    "a=A()\n",
    "a.say=MethodType(say,A)\n",
    "a.say()"
   ]
  },
  {
   "cell_type": "code",
   "execution_count": 16,
   "metadata": {},
   "outputs": [
    {
     "name": "stdout",
     "output_type": "stream",
     "text": [
      "Talking...\n"
     ]
    }
   ],
   "source": [
    "#利用Type创建类\n",
    "#先定义类应该具有的成员函数\n",
    "def say(self):\n",
    "    print(\"Saying...\")\n",
    "def talk(self):\n",
    "    print(\"Talking...\")\n",
    "A=type(\"Aname\",(object, ),{\"class_say\":say,\"class_talk\":talk})\n",
    "a=A()\n",
    "A.__dict__\n",
    "#返回模块的属性列表\n",
    "dir(a)\n",
    "a.class_talk()"
   ]
  },
  {
   "cell_type": "code",
   "execution_count": 19,
   "metadata": {},
   "outputs": [
    {
     "name": "stdout",
     "output_type": "stream",
     "text": [
      "我是元类\n"
     ]
    },
    {
     "data": {
      "text/plain": [
       "'000000'"
      ]
     },
     "execution_count": 19,
     "metadata": {},
     "output_type": "execute_result"
    }
   ],
   "source": [
    "#元类演示\n",
    "#元类的写法是固定的，它必须继承自type,以metaclass结尾\n",
    "class TuLingMetaClass(type):\n",
    "    def __new__(cls,name,bases,attrs):\n",
    "        print(\"我是元类\")\n",
    "        attrs['id']='000000'\n",
    "        attrs['addr']=\"北京市昌平区沙河高教园\"\n",
    "        return type.__new__(cls,name,bases,attrs)\n",
    "class Teacheer(object,metaclass=TuLingMetaClass):\n",
    "    pass\n",
    "t=Teacheer()\n",
    "t.id"
   ]
  },
  {
   "cell_type": "code",
   "execution_count": 2,
   "metadata": {},
   "outputs": [
    {
     "name": "stdout",
     "output_type": "stream",
     "text": [
      "请你输入一个数1\n",
      "100.0\n"
     ]
    }
   ],
   "source": [
    "num=int(input(\"请你输入一个数\"))\n",
    "\n",
    "print(100/num)"
   ]
  },
  {
   "cell_type": "code",
   "execution_count": 1,
   "metadata": {},
   "outputs": [
    {
     "name": "stdout",
     "output_type": "stream",
     "text": [
      "请你出入一个数0\n",
      "你输入的啥几把玩应\n"
     ]
    }
   ],
   "source": [
    "#简单异常案例\n",
    "try:\n",
    "    num=int(input(\"请你出入一个数\"))\n",
    "    a=100/num\n",
    "    print(\"计算结果是：{0}\".format(a))\n",
    "except:\n",
    "    print(\"你输入的啥几把玩应\")\n",
    "    exit()"
   ]
  },
  {
   "cell_type": "code",
   "execution_count": 2,
   "metadata": {},
   "outputs": [
    {
     "name": "stdout",
     "output_type": "stream",
     "text": [
      "赶紧输入0\n",
      "你特娘的输入的是啥玩应\n",
      "division by zero\n"
     ]
    }
   ],
   "source": [
    "try:\n",
    "    num=int(input(\"赶紧输入\"))\n",
    "    num1=100/num\n",
    "    print(\"计算结果是这{0}几把玩应\".format(num1))\n",
    "except ZeroDivisionError as e:\n",
    "    print(\"你特娘的输入的是啥玩应\")\n",
    "    print(e)\n",
    "    #exit 退出的意思\n",
    "    #exit()\n",
    "    \n"
   ]
  },
  {
   "cell_type": "code",
   "execution_count": 6,
   "metadata": {},
   "outputs": [
    {
     "name": "stdout",
     "output_type": "stream",
     "text": [
      "<__main__.ZeroDivisionError object at 0x000001A6C34D65F8>\n",
      "{'__module__': '__main__', '__dict__': <attribute '__dict__' of 'ZeroDivisionError' objects>, '__weakref__': <attribute '__weakref__' of 'ZeroDivisionError' objects>, '__doc__': None}\n",
      "{}\n"
     ]
    }
   ],
   "source": [
    "class ZeroDivisionError():\n",
    "    pass\n",
    "zero=ZeroDivisionError()\n",
    "print(zero)\n",
    "print(ZeroDivisionError.__dict__)\n",
    "print(zero.__dict__)"
   ]
  },
  {
   "cell_type": "code",
   "execution_count": 2,
   "metadata": {},
   "outputs": [
    {
     "name": "stdout",
     "output_type": "stream",
     "text": [
      "     March 2018\n",
      "Mo Tu We Th Fr Sa Su\n",
      "          1  2  3  4\n",
      " 5  6  7  8  9 10 11\n",
      "12 13 14 15 16 17 18\n",
      "19 20 21 22 23 24 25\n",
      "26 27 28 29 30 31\n",
      "\n"
     ]
    }
   ],
   "source": [
    "#month() 获取某个月的日历字符串\n",
    "#格式：calendar.month(年，月)\n",
    "#回值：月日历的字符串\n",
    "import calendar\n",
    "m3=calendar.month(2018,3)\n",
    "print(m3)"
   ]
  },
  {
   "cell_type": "code",
   "execution_count": 3,
   "metadata": {},
   "outputs": [
    {
     "name": "stdout",
     "output_type": "stream",
     "text": [
      "(6, 31)\n"
     ]
    }
   ],
   "source": [
    "#monthrange() 获取一个月的周几开始和天数\n",
    "#格式：calendar.monthrange(年，月)\n",
    "#回值：元组（周几开始，总天数）\n",
    "#注意：周默认0-6表示周一到周天\n",
    "\n",
    "m4=calendar.monthrange(2018,7)\n",
    "print(m4)"
   ]
  },
  {
   "cell_type": "code",
   "execution_count": 7,
   "metadata": {},
   "outputs": [
    {
     "name": "stdout",
     "output_type": "stream",
     "text": [
      "[[0, 0, 0, 0, 0, 0, 1], [2, 3, 4, 5, 6, 7, 8], [9, 10, 11, 12, 13, 14, 15], [16, 17, 18, 19, 20, 21, 22], [23, 24, 25, 26, 27, 28, 29], [30, 31, 0, 0, 0, 0, 0]]\n",
      "[0, 0, 0, 0, 0, 0, 1]\n",
      "0\n",
      "0\n",
      "0\n",
      "0\n",
      "0\n",
      "0\n",
      "1\n",
      "[2, 3, 4, 5, 6, 7, 8]\n",
      "2\n",
      "3\n",
      "4\n",
      "5\n",
      "6\n",
      "7\n",
      "8\n",
      "[9, 10, 11, 12, 13, 14, 15]\n",
      "9\n",
      "10\n",
      "11\n",
      "12\n",
      "13\n",
      "14\n",
      "15\n",
      "[16, 17, 18, 19, 20, 21, 22]\n",
      "16\n",
      "17\n",
      "18\n",
      "19\n",
      "20\n",
      "21\n",
      "22\n",
      "[23, 24, 25, 26, 27, 28, 29]\n",
      "23\n",
      "24\n",
      "25\n",
      "26\n",
      "27\n",
      "28\n",
      "29\n",
      "[30, 31, 0, 0, 0, 0, 0]\n",
      "30\n",
      "31\n",
      "0\n",
      "0\n",
      "0\n",
      "0\n",
      "0\n"
     ]
    }
   ],
   "source": [
    "#monthcalendar() 返回一个月每天的矩阵列表\n",
    "#格式：calendar.monthcalendar(年，月)\n",
    "#回值：二级列表\n",
    "#注意：矩阵中没有天数用0表示\n",
    "\n",
    "m5=calendar.monthcalendar(2018,7)\n",
    "print(m5)\n",
    "sum = 0 \n",
    "for i in m5:\n",
    "    print(i)\n",
    "    for j in i:\n",
    "        print(j)\n",
    "        \n"
   ]
  },
  {
   "cell_type": "code",
   "execution_count": 8,
   "metadata": {},
   "outputs": [
    {
     "name": "stdout",
     "output_type": "stream",
     "text": [
      "496\n"
     ]
    }
   ],
   "source": [
    "sum=0\n",
    "for i in m5:\n",
    "    for j in i:\n",
    "        sum+=j\n",
    "print(sum)"
   ]
  },
  {
   "cell_type": "code",
   "execution_count": 9,
   "metadata": {},
   "outputs": [
    {
     "name": "stdout",
     "output_type": "stream",
     "text": [
      "                                  2018\n",
      "\n",
      "      January                   February                   March\n",
      "Mo Tu We Th Fr Sa Su      Mo Tu We Th Fr Sa Su      Mo Tu We Th Fr Sa Su\n",
      " 1  2  3  4  5  6  7                1  2  3  4                1  2  3  4\n",
      " 8  9 10 11 12 13 14       5  6  7  8  9 10 11       5  6  7  8  9 10 11\n",
      "15 16 17 18 19 20 21      12 13 14 15 16 17 18      12 13 14 15 16 17 18\n",
      "22 23 24 25 26 27 28      19 20 21 22 23 24 25      19 20 21 22 23 24 25\n",
      "29 30 31                  26 27 28                  26 27 28 29 30 31\n",
      "\n",
      "       April                      May                       June\n",
      "Mo Tu We Th Fr Sa Su      Mo Tu We Th Fr Sa Su      Mo Tu We Th Fr Sa Su\n",
      "                   1          1  2  3  4  5  6                   1  2  3\n",
      " 2  3  4  5  6  7  8       7  8  9 10 11 12 13       4  5  6  7  8  9 10\n",
      " 9 10 11 12 13 14 15      14 15 16 17 18 19 20      11 12 13 14 15 16 17\n",
      "16 17 18 19 20 21 22      21 22 23 24 25 26 27      18 19 20 21 22 23 24\n",
      "23 24 25 26 27 28 29      28 29 30 31               25 26 27 28 29 30\n",
      "30\n",
      "\n",
      "        July                     August                  September\n",
      "Mo Tu We Th Fr Sa Su      Mo Tu We Th Fr Sa Su      Mo Tu We Th Fr Sa Su\n",
      "                   1             1  2  3  4  5                      1  2\n",
      " 2  3  4  5  6  7  8       6  7  8  9 10 11 12       3  4  5  6  7  8  9\n",
      " 9 10 11 12 13 14 15      13 14 15 16 17 18 19      10 11 12 13 14 15 16\n",
      "16 17 18 19 20 21 22      20 21 22 23 24 25 26      17 18 19 20 21 22 23\n",
      "23 24 25 26 27 28 29      27 28 29 30 31            24 25 26 27 28 29 30\n",
      "30 31\n",
      "\n",
      "      October                   November                  December\n",
      "Mo Tu We Th Fr Sa Su      Mo Tu We Th Fr Sa Su      Mo Tu We Th Fr Sa Su\n",
      " 1  2  3  4  5  6  7                1  2  3  4                      1  2\n",
      " 8  9 10 11 12 13 14       5  6  7  8  9 10 11       3  4  5  6  7  8  9\n",
      "15 16 17 18 19 20 21      12 13 14 15 16 17 18      10 11 12 13 14 15 16\n",
      "22 23 24 25 26 27 28      19 20 21 22 23 24 25      17 18 19 20 21 22 23\n",
      "29 30 31                  26 27 28 29 30            24 25 26 27 28 29 30\n",
      "                                                    31\n",
      "\n"
     ]
    }
   ],
   "source": [
    "#prcal: 直接打印日历\n",
    "\n",
    "calendar.prcal(2018)\n"
   ]
  },
  {
   "cell_type": "code",
   "execution_count": 12,
   "metadata": {},
   "outputs": [
    {
     "name": "stdout",
     "output_type": "stream",
     "text": [
      "<bound method TextCalendar.prmonth of <calendar.TextCalendar object at 0x0000020E1E306FD0>>\n",
      "    August 2018\n",
      "Mo Tu We Th Fr Sa Su\n",
      "       1  2  3  4  5\n",
      " 6  7  8  9 10 11 12\n",
      "13 14 15 16 17 18 19\n",
      "20 21 22 23 24 25 26\n",
      "27 28 29 30 31\n"
     ]
    }
   ],
   "source": [
    "#prmonth() 直接打印整个月的日历\n",
    "#格式：calendar.prmonth(年，月)\n",
    "#返回值：无\n",
    "\n",
    "m6=calendar.prmonth\n",
    "print(m6)\n",
    "calendar.prmonth(2018,8)"
   ]
  },
  {
   "cell_type": "code",
   "execution_count": 13,
   "metadata": {},
   "outputs": [
    {
     "data": {
      "text/plain": [
       "4"
      ]
     },
     "execution_count": 13,
     "metadata": {},
     "output_type": "execute_result"
    }
   ],
   "source": [
    "#weekday() 获取周几\n",
    "#格式：calendar.weekeday(年，月，日)\n",
    "#返回值：周几对应的数字\n",
    "\n",
    "calendar.weekday(2018,7,13)"
   ]
  },
  {
   "cell_type": "markdown",
   "metadata": {},
   "source": [
    "# time  模块\n",
    "## 时间戳\n",
    "    · 一个时间表示单位。\n",
    "    · 是从1970年1月1日0时0分0秒到现在经历的秒数\n",
    "    · 时间戳表示的当下时间\n",
    "    · 32位操作系统能够支持时间戳到2038年\n",
    "### UTC时间\n",
    "    - UTC又称为世界协调时间，以英国的格林尼治天文所在地区的时间作为参考时间，也叫做世界标准时间。\n",
    "    - 中国时间是 UTC+8 东八区\n",
    "### 夏令时\n",
    "    - 夏令时就是在夏天的时候将时间调快一个小时，本意是督促大家早睡早起节省蜡烛，每天变成25个小时，实际上还是24小时。\n",
    "### 时间元组\n",
    "    - 一个包含时间内容的普通元组\n",
    "    \n",
    "    \n",
    "    \n",
    "    "
   ]
  },
  {
   "cell_type": "code",
   "execution_count": 15,
   "metadata": {},
   "outputs": [],
   "source": [
    "# 需要导入\n",
    "import time"
   ]
  },
  {
   "cell_type": "code",
   "execution_count": 23,
   "metadata": {},
   "outputs": [
    {
     "name": "stdout",
     "output_type": "stream",
     "text": [
      "-28800\n"
     ]
    }
   ],
   "source": [
    "# 时间模块的属性\n",
    "# timezone：当前时区和UTC时间相差的秒数，再没有夏令时的情况下的间隔\n",
    "print(time.timezone)\n",
    "\n"
   ]
  },
  {
   "cell_type": "code",
   "execution_count": null,
   "metadata": {},
   "outputs": [],
   "source": [
    "#altzone:获取当前时区和UTC时间相差的秒数，在有夏令时的情况下\n",
    "#daylight：测当前是否是夏令时时间状态，0表示是"
   ]
  },
  {
   "cell_type": "code",
   "execution_count": 24,
   "metadata": {},
   "outputs": [
    {
     "data": {
      "text/plain": [
       "1531466842.158629"
      ]
     },
     "execution_count": 24,
     "metadata": {},
     "output_type": "execute_result"
    }
   ],
   "source": [
    "#得到时间戳\n",
    "time.time()"
   ]
  },
  {
   "cell_type": "code",
   "execution_count": null,
   "metadata": {},
   "outputs": [],
   "source": [
    "# time.localtime()得到当前时间的时间结构\n",
    "#可以通过点号操作符得到相应的属性元素的内容\n"
   ]
  },
  {
   "cell_type": "code",
   "execution_count": 25,
   "metadata": {},
   "outputs": [
    {
     "name": "stdout",
     "output_type": "stream",
     "text": [
      "Fri Jul 13 15:31:57 2018\n"
     ]
    }
   ],
   "source": [
    "#asctime（）返回元组的正常字符串化之后的时间格式\n",
    "#格式：time.asctime(时间元组)\n",
    "#返回值：字符串 Tue Jun 6 11:11:00 2017\n",
    "t=time.localtime()\n",
    "\n",
    "tt=time.asctime(t)\n",
    "print(tt)\n",
    "\n"
   ]
  },
  {
   "cell_type": "code",
   "execution_count": 26,
   "metadata": {},
   "outputs": [
    {
     "name": "stdout",
     "output_type": "stream",
     "text": [
      "Fri Jul 13 15:33:07 2018\n"
     ]
    }
   ],
   "source": [
    "#ctime:获取字符串化的当前时间\n",
    "t=time.ctime()\n",
    "print(t)\n"
   ]
  },
  {
   "cell_type": "code",
   "execution_count": 28,
   "metadata": {},
   "outputs": [
    {
     "name": "stdout",
     "output_type": "stream",
     "text": [
      "1531467344.0\n",
      "<class 'float'>\n"
     ]
    }
   ],
   "source": [
    "#mktime() 使用时间元组获取对应的时间戳\n",
    "#格式： time.mktime(时间元组)\n",
    "#返回值：浮点数时间戳\n",
    "lt=time.localtime()\n",
    "ts=time.mktime(lt)\n",
    "print(ts)\n",
    "print(type(ts))\n"
   ]
  },
  {
   "cell_type": "code",
   "execution_count": 30,
   "metadata": {},
   "outputs": [
    {
     "name": "stdout",
     "output_type": "stream",
     "text": [
      "<built-in function clock>\n"
     ]
    }
   ],
   "source": [
    "# clock :获取CPU时间 3.0-3.3版本直接使用。\n",
    "time.clock\n",
    "print(time.clock)\n"
   ]
  },
  {
   "cell_type": "code",
   "execution_count": 31,
   "metadata": {},
   "outputs": [
    {
     "name": "stdout",
     "output_type": "stream",
     "text": [
      "0\n",
      "1\n",
      "2\n",
      "3\n",
      "4\n",
      "5\n",
      "6\n",
      "7\n",
      "8\n",
      "9\n"
     ]
    }
   ],
   "source": [
    "# sleep:使程序进入睡眠，n秒后继续\n",
    "\n",
    "for i in range(10):\n",
    "    print(i)\n",
    "    time.sleep(1)"
   ]
  },
  {
   "cell_type": "code",
   "execution_count": 34,
   "metadata": {},
   "outputs": [
    {
     "name": "stdout",
     "output_type": "stream",
     "text": [
      "<class 'float'>\n",
      "5.501462748986384\n"
     ]
    }
   ],
   "source": [
    "def p():\n",
    "    time.sleep(2.5)\n",
    "\n",
    "t0=time.clock()\n",
    "p()\n",
    "time.sleep(3)\n",
    "t1=time.clock()\n",
    "print(type(t0))\n",
    "print(t1-t0)"
   ]
  },
  {
   "cell_type": "code",
   "execution_count": null,
   "metadata": {},
   "outputs": [],
   "source": [
    "# strftime:将时间元组转化为自定义的字符串格式\n",
    "'''\n",
    "格式  含义  备注\n",
    "%a    本地（locale）简化星期名称\n",
    "%A    本地完整星期名称\n",
    "%b    简化月份名称\n",
    "%B      完整的月份名称\n",
    "%c    相应的时间和日期的表示\n",
    "%d    一个月中的第几天（01-31）\n",
    "%H    一天中的第几个小时（24小时制，00-23）\n",
    "%I    12小时制\n",
    "%j    一年中的第几天\n",
    "%m    月份\n",
    "%M    分钟数\n",
    "%p    本地am或者pm的相应符\n",
    "%S    秒\n",
    "%U    一年中的星期数\n",
    "%w    一个星期中的第几天\n",
    "%W    和%U基本相同，不同的是%W以星期一为一个星期的开始\n",
    "%x    本地相应日期\n",
    "%X    本地相应时间\n",
    "%y    去掉世纪的年份\n",
    "%Y    完整的年份\n",
    "'''\n"
   ]
  },
  {
   "cell_type": "code",
   "execution_count": 62,
   "metadata": {},
   "outputs": [
    {
     "name": "stdout",
     "output_type": "stream",
     "text": [
      "20180713 16:29\n"
     ]
    }
   ],
   "source": [
    "import sys\n",
    "# 此处不能加中文，加了中文之后会报错\n",
    "t=time.localtime()\n",
    "#ft=time.strftime(t)\n",
    "#sys.setdefaultencoding('utf-8')\n",
    "ft=time.strftime(\"%Y%m%d %H:%M\",t)\n",
    "print(ft)"
   ]
  },
  {
   "cell_type": "markdown",
   "metadata": {},
   "source": [
    "# datetime模块\n",
    "- datetime 提供日期和世家你的运算和表示"
   ]
  },
  {
   "cell_type": "code",
   "execution_count": null,
   "metadata": {},
   "outputs": [],
   "source": []
  },
  {
   "cell_type": "code",
   "execution_count": null,
   "metadata": {},
   "outputs": [],
   "source": []
  },
  {
   "cell_type": "code",
   "execution_count": null,
   "metadata": {},
   "outputs": [],
   "source": []
  },
  {
   "cell_type": "code",
   "execution_count": null,
   "metadata": {},
   "outputs": [],
   "source": []
  },
  {
   "cell_type": "code",
   "execution_count": null,
   "metadata": {},
   "outputs": [],
   "source": []
  },
  {
   "cell_type": "code",
   "execution_count": null,
   "metadata": {},
   "outputs": [],
   "source": []
  },
  {
   "cell_type": "code",
   "execution_count": null,
   "metadata": {},
   "outputs": [],
   "source": []
  }
 ],
 "metadata": {
  "kernelspec": {
   "display_name": "Python 3",
   "language": "python",
   "name": "python3"
  },
  "language_info": {
   "codemirror_mode": {
    "name": "ipython",
    "version": 3
   },
   "file_extension": ".py",
   "mimetype": "text/x-python",
   "name": "python",
   "nbconvert_exporter": "python",
   "pygments_lexer": "ipython3",
   "version": "3.6.5"
  }
 },
 "nbformat": 4,
 "nbformat_minor": 2
}
