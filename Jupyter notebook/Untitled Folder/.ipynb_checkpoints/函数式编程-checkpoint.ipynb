{
 "cells": [
  {
   "cell_type": "markdown",
   "metadata": {},
   "source": [
    "# Log模块的资料\n",
    "\n",
    "- https://www.cnblogs.com/yyds/p/6901864.html"
   ]
  },
  {
   "cell_type": "markdown",
   "metadata": {},
   "source": [
    "# Python语言的高级特性\n"
   ]
  },
  {
   "cell_type": "markdown",
   "metadata": {},
   "source": [
    "## 函数式编程\n",
    "- 基于lambda演算的一种编程方式\n",
    "    - 程序中只有函数\n",
    "    - 函数可以作为参数，同样可以作为返回值\n",
    "    - 纯函数式编程语言：LISP，Hsdkell\n",
    "\n",
    "\n",
    "- Python函数式编程只是借鉴函数式编程的一些特点，可以理解为一半函数式一半Python\n",
    "        - 高级编程\n",
    "        - 返回函数\n",
    "        - 匿名函数\n",
    "        - 装饰器\n",
    "        - 偏函数\n",
    " ### lambda表达式\n",
    "     - 函数： 最大程度复用代码\n",
    "         -存在问题：如果函数很小，很短，则会造成麻烦\n",
    "         "
   ]
  },
  {
   "cell_type": "code",
   "execution_count": 3,
   "metadata": {},
   "outputs": [
    {
     "data": {
      "text/plain": [
       "100"
      ]
     },
     "execution_count": 3,
     "metadata": {},
     "output_type": "execute_result"
    }
   ],
   "source": [
    "# lambda表达式的用法\n",
    "# 1.以lambda开头\n",
    "# 2.紧跟一定的参数（如果有的话）\n",
    "# 3.参数后用冒号和表达式主体隔开\n",
    "# 4.只是一个表达式，所以没有return\n",
    "stm=lambda x: 100*x\n",
    "stm(1)\n",
    "# 使用方式跟调用函数一样"
   ]
  },
  {
   "cell_type": "code",
   "execution_count": 7,
   "metadata": {},
   "outputs": [
    {
     "data": {
      "text/plain": [
       "321"
      ]
     },
     "execution_count": 7,
     "metadata": {},
     "output_type": "execute_result"
    }
   ],
   "source": [
    "#多参数表达式\n",
    "stm2=lambda x,y,z: x+y*10 +z*100\n",
    "stm2(1,2,3)"
   ]
  },
  {
   "cell_type": "markdown",
   "metadata": {},
   "source": [
    "### 高阶函数\n",
    "- 把函数作为参数使用的参数，叫做高阶函数\n",
    "  "
   ]
  },
  {
   "cell_type": "markdown",
   "metadata": {},
   "source": [
    "### 函数名称是变量，一个当作参数传入另一个函数"
   ]
  },
  {
   "cell_type": "code",
   "execution_count": 19,
   "metadata": {},
   "outputs": [
    {
     "name": "stdout",
     "output_type": "stream",
     "text": [
      "2700\n"
     ]
    }
   ],
   "source": [
    "# 高阶函数举例\n",
    "def funA(n):\n",
    "    return n * 100\n",
    "\n",
    "def funC(n,f):\n",
    "    return f(n) * 3\n",
    "print( funC(9,funA)) #注意此处要将函数当作变量传入\n",
    "\n",
    "    "
   ]
  },
  {
   "cell_type": "markdown",
   "metadata": {},
   "source": [
    "### 系统高阶函数-map\n",
    "- 原意就是映射，即把集合或者列表里的元素，每一个元素都按照一定规则进行操作，生成一个新的列表或者集合\n",
    "- map函数是系统提供的具有映射功能的函数，返回值是一个迭代对象\n",
    "\n"
   ]
  },
  {
   "cell_type": "code",
   "execution_count": 37,
   "metadata": {},
   "outputs": [
    {
     "name": "stdout",
     "output_type": "stream",
     "text": [
      "<class 'map'>\n",
      "[0, 10, 20, 30, 40, 50, 60, 70, 80, 90]\n",
      "<map object at 0x000001CFF7B83B00>\n"
     ]
    }
   ],
   "source": [
    "# map举例\n",
    "\n",
    "# 有一个列表，想对列表里的每一个元素乘以10，并得到新的列表\n",
    "\n",
    "#利用map来实现功能 \n",
    "l1=[i for i in range(10)]\n",
    "\n",
    "def mulTen(n):\n",
    "    return n * 10\n",
    "\n",
    "l2=map(mulTen,l1)\n",
    "\n",
    "print(type(l2))\n",
    "l3=list(l2)\n",
    "print(l3)\n",
    "for i in l2:\n",
    "    print(i)\n",
    "print(l2)\n",
    "#map对象被迭代的时候，每一次会返回一个迭代器。迭代了一遍之后，就是空的\n",
    "\n"
   ]
  },
  {
   "cell_type": "markdown",
   "metadata": {},
   "source": [
    "### reduce\n",
    "- 原意是归并，缩减\n",
    "- 把一个可迭代对象最后归并成一个结果\n",
    "- 对于函数参数有要求： 必须有两个参数，必须有返回结果\n",
    "- reduce([1,2,3,4,5])==f(f(f(f(1,2),3),4),5)\n",
    "- reduce 需要导入functools包\n",
    "\n"
   ]
  },
  {
   "cell_type": "code",
   "execution_count": 39,
   "metadata": {},
   "outputs": [
    {
     "data": {
      "text/plain": [
       "21"
      ]
     },
     "execution_count": 39,
     "metadata": {},
     "output_type": "execute_result"
    }
   ],
   "source": [
    "from functools import reduce\n",
    "\n",
    "# 定义一个操作函数\n",
    "# 假如操作函数只是相加\n",
    "\n",
    "def myAdd(x,y):\n",
    "    return x +y\n",
    "\n",
    "reduce(myAdd,[1,2,3,4,5,6])"
   ]
  },
  {
   "cell_type": "markdown",
   "metadata": {},
   "source": [
    "### filter函数\n",
    "- 过滤函数：对一组数据进行过滤，符合条件的数据会生成一个新的列表并返回\n",
    "- 跟map相比较：\n",
    "    - 相同：都对列表的每一个元素逐一进行操作\n",
    "    - 不同：\n",
    "        - map会生成一个跟原来数据相对应的新队列\n",
    "        - filter不一定，只要符合条件的才会进入新的数据集合\n",
    "    - filter函数怎么写：\n",
    "        - 利用给定函数进行判断\n",
    "        - 返回值一定是个布尔值\n",
    "        - 调用格式： filter（f，data），f是过滤函数，data是数据\n",
    "        "
   ]
  },
  {
   "cell_type": "code",
   "execution_count": 42,
   "metadata": {},
   "outputs": [
    {
     "name": "stdout",
     "output_type": "stream",
     "text": [
      "[0, 2, 4, 6, 8]\n"
     ]
    }
   ],
   "source": [
    "# filter 案例\n",
    "# 对于一个列表，对其进行过滤，偶数组成一个新列表\n",
    "\n",
    "# 需要定义过滤函数\n",
    "# 过滤函数要求有输入，返回布尔值\n",
    "def isEven(a):\n",
    "    return a % 2 ==0\n",
    "l=[i for i in  range(10)]\n",
    "\n",
    "rst=filter(isEven,l)\n",
    "rst1=list(rst)\n",
    "print(rst1)"
   ]
  },
  {
   "cell_type": "markdown",
   "metadata": {},
   "source": [
    "### 高阶函数-排序\n",
    "- 把一个序列按照给定的算法进行排序\n",
    "- key：在排序前对每一个元素进行key函数运算，可以理解为按照key函数定义的逻辑进行排序\n",
    "- python2和python3相差巨大"
   ]
  },
  {
   "cell_type": "code",
   "execution_count": 48,
   "metadata": {},
   "outputs": [
    {
     "name": "stdout",
     "output_type": "stream",
     "text": [
      "[1, 2, 4, 4, 5, 6, 6, 7, 67, 69]\n",
      "[69, 67, 7, 6, 6, 5, 4, 4, 2, 1]\n"
     ]
    }
   ],
   "source": [
    "# 排序案例\n",
    "a=[1,2,4,4,6,5,7,67,6,69]\n",
    "a1=sorted(a)\n",
    "a2=sorted(a,reverse=True)\n",
    "print(a1)\n",
    "print(a2)"
   ]
  },
  {
   "cell_type": "code",
   "execution_count": 50,
   "metadata": {},
   "outputs": [
    {
     "name": "stdout",
     "output_type": "stream",
     "text": [
      "[-1541, -13, 12, 12, 4, -1, 1]\n"
     ]
    }
   ],
   "source": [
    "# 排序案例2\n",
    "a=[-1,1,12,-13,12,4,-1541]\n",
    "# 按照绝对值进行排序\n",
    "# abs是求绝对值的意思\n",
    "# 即按照绝对值的倒叙排列\n",
    "a3=sorted(a,key=abs,reverse=True)\n",
    "print(a3)"
   ]
  },
  {
   "cell_type": "code",
   "execution_count": 51,
   "metadata": {},
   "outputs": [
    {
     "name": "stdout",
     "output_type": "stream",
     "text": [
      "['F', 'a', 'b', 'ccc', 'd', 'dd']\n",
      "['a', 'b', 'ccc', 'd', 'dd', 'F']\n"
     ]
    }
   ],
   "source": [
    "# 排序案例3\n",
    "astr=['a','b','d','dd','ccc','F']\n",
    "str1=sorted(astr)\n",
    "print(str1)\n",
    "str2=sorted(astr,key=str.upper)\n",
    "print(str2)"
   ]
  },
  {
   "cell_type": "code",
   "execution_count": 53,
   "metadata": {},
   "outputs": [],
   "source": [
    " #  函数作为返回值返回，被返回的函数在函数体内定义\n",
    "    \n",
    "def myF2():\n",
    "    def myF3():\n",
    "        print(\"I am F3\")\n",
    "        return 3\n",
    "    return myF3"
   ]
  },
  {
   "cell_type": "code",
   "execution_count": 56,
   "metadata": {},
   "outputs": [
    {
     "name": "stdout",
     "output_type": "stream",
     "text": [
      "<function myF2.<locals>.myF3 at 0x000001CFF7C39D90>\n",
      "I am F3\n"
     ]
    },
    {
     "data": {
      "text/plain": [
       "3"
      ]
     },
     "execution_count": 56,
     "metadata": {},
     "output_type": "execute_result"
    }
   ],
   "source": [
    "f3=myF2()\n",
    "print(f3)\n",
    "f3()"
   ]
  },
  {
   "cell_type": "code",
   "execution_count": 2,
   "metadata": {},
   "outputs": [],
   "source": [
    "# 复杂一点的函数例子\n",
    "# ages：参数列表\n",
    "\n",
    "def myF4( *args):\n",
    "    def myF5():\n",
    "        rst=0\n",
    "        for n in args:\n",
    "            rst += n\n",
    "        return rst\n",
    "    return myF5\n"
   ]
  },
  {
   "cell_type": "code",
   "execution_count": 6,
   "metadata": {},
   "outputs": [
    {
     "name": "stdout",
     "output_type": "stream",
     "text": [
      "<class 'function'>\n"
     ]
    },
    {
     "data": {
      "text/plain": [
       "15"
      ]
     },
     "execution_count": 6,
     "metadata": {},
     "output_type": "execute_result"
    }
   ],
   "source": [
    "myF4(1,2,3,4,5)\n",
    "\n",
    "f4=myF4(1,2,3,4,5)\n",
    "\n",
    "print(type(f4))\n",
    "\n",
    "f4()"
   ]
  },
  {
   "cell_type": "markdown",
   "metadata": {},
   "source": [
    "## 闭包（closure）\n",
    "- 当一个函数在内部定义函数，并且内部的函数应用外部函数的参数或者局部变量，当内部函数被当作返回值的时候，相关参数和变量保存在返回的函数中，这种结果叫闭包。\n",
    "\n",
    "\n"
   ]
  },
  {
   "cell_type": "code",
   "execution_count": 23,
   "metadata": {},
   "outputs": [
    {
     "name": "stdout",
     "output_type": "stream",
     "text": [
      "9\n",
      "9\n",
      "9\n"
     ]
    }
   ],
   "source": [
    "def count():\n",
    "    # 定义列表，列表里存放的是定义的函数\n",
    "    fs=[]\n",
    "    for i in range(1,4):\n",
    "        # 定义了一个函数f\n",
    "        # f是一个闭包结构\n",
    "        def f():\n",
    "            return i* i\n",
    "        fs.append(f)\n",
    "    return fs\n",
    "f1,f2,f3=count()\n",
    "print(f1())\n",
    "print(f2())\n",
    "print(f3())"
   ]
  },
  {
   "cell_type": "markdown",
   "metadata": {},
   "source": [
    "## 以上代码出现的问题\n",
    "- 当把函数加入列表中时，python还没有给i赋值，只有当执行时，再去找i值是什么，这时在第一个for循环以后，i的值是3，所以以上代码的执行结果是9，9，9"
   ]
  },
  {
   "cell_type": "markdown",
   "metadata": {},
   "source": [
    "### 出现的问题：\n",
    "- 造成上述状况的原因是，返回函数引用了变量i，i并非立即执行，而是等到三个函数都返回的时候才统一使用，此时i已经变成了3，最终调用的时候，都返回3*3\n",
    "- 此问题描述成：返回闭包时，返回函数不能引用任何循环变量\n",
    "- 解决方案： 再创建一个函数，用该函数的参数绑定循环变量的当前值，无论该循环变量以后如何改变，已经绑定的函数参数值不再改变\n"
   ]
  },
  {
   "cell_type": "code",
   "execution_count": 18,
   "metadata": {},
   "outputs": [
    {
     "name": "stdout",
     "output_type": "stream",
     "text": [
      "1\n",
      "4\n",
      "9\n"
     ]
    }
   ],
   "source": [
    "def count1():\n",
    "    def f(j):\n",
    "        def g():\n",
    "            return j*j\n",
    "        return g\n",
    "    fs=[]\n",
    "    for i in range(1,4):\n",
    "        fs.append(f(i))\n",
    "    return fs\n",
    "f1,f2,f3=count1()\n",
    "print(f1())\n",
    "print(f2())\n",
    "print(f3())"
   ]
  },
  {
   "cell_type": "markdown",
   "metadata": {},
   "source": [
    "### python-闭包详解\n",
    "- 在函数编程中经常用到闭包。闭包是什么，他是怎么产生的及作用是什么？\n",
    "- 闭包：是由函数及其相关的引用环境组合而成的实体（即闭包=函数+引用环境）\n",
    "- 函数可以作为另一个函数的参数或者返回值，可以赋值给一个变量。函数可以嵌套定义，即在一个函数内部可以定义另一个函数，有了嵌套函数这种结构，便会产生闭包问题："
   ]
  },
  {
   "cell_type": "code",
   "execution_count": 22,
   "metadata": {},
   "outputs": [
    {
     "data": {
      "text/plain": [
       "11"
      ]
     },
     "execution_count": 22,
     "metadata": {},
     "output_type": "execute_result"
    }
   ],
   "source": [
    "def ExFunc(n):\n",
    "    sum = n\n",
    "    def InsFunc():\n",
    "        return sum + 1\n",
    "    return InsFunc\n",
    "\n",
    "myFunc=ExFunc(10)\n",
    "myFunc()\n",
    "# 在这段程序中，函数InsFunc是函数Exfunc的内嵌函数，并且是Exfunc函数的返回值。我们注意到一个问题\n",
    "# 内嵌函数InsFunc中引用到外层函数中的局部变量sum"
   ]
  },
  {
   "cell_type": "markdown",
   "metadata": {},
   "source": [
    "# 闭包的注意事项\n",
    "- 闭包中是不能修改外部作用域的局部变量的"
   ]
  },
  {
   "cell_type": "markdown",
   "metadata": {},
   "source": [
    "### 闭包的作用\n",
    "- 当闭包执行完后，仍然能够保持住当前的运行环境。\n",
    "- 闭包可以根据外部作用域的局部变量来得到不同的结果，这有点像一种类似配置功能的作用，我们可以修改外部的变量，闭包根据这个变量展现出不同的功能。"
   ]
  },
  {
   "cell_type": "markdown",
   "metadata": {},
   "source": [
    "## 装饰器\n",
    "- "
   ]
  },
  {
   "cell_type": "code",
   "execution_count": 26,
   "metadata": {},
   "outputs": [
    {
     "name": "stdout",
     "output_type": "stream",
     "text": [
      "hello world\n"
     ]
    }
   ],
   "source": [
    "def hl():\n",
    "    print(\"hello world\")\n",
    "hl()"
   ]
  },
  {
   "cell_type": "code",
   "execution_count": 72,
   "metadata": {},
   "outputs": [
    {
     "name": "stdout",
     "output_type": "stream",
     "text": [
      "time Mon Jul 23 10:52:57 2018\n",
      "hello world\n"
     ]
    }
   ],
   "source": [
    " # 实现新有的功能并且不改变原有函数\n",
    " # 装饰器的使用： 使用@语法，即在每次要扩展到函数定义前使用@ +函数名\n",
    "# *args 代表实参，*kwargs代表形参\n",
    "import time\n",
    "def a(f):\n",
    "    def b():\n",
    "        print(\"time\",time.ctime())\n",
    "        return f()\n",
    "    return b\n",
    "\n",
    "@a\n",
    "def hl():\n",
    "    print(\"hello world\")\n",
    "hl()"
   ]
  },
  {
   "cell_type": "code",
   "execution_count": 77,
   "metadata": {},
   "outputs": [
    {
     "data": {
      "text/plain": [
       "74565"
      ]
     },
     "execution_count": 77,
     "metadata": {},
     "output_type": "execute_result"
    }
   ],
   "source": [
    "# 偏函数\n",
    "# 参数固定的函数，相当于一个由特定参数的函数体\n",
    "import functools\n",
    "# 实现上面int16的功能\n",
    "int16=functools.partial(int,base=16)\n",
    "\n",
    "int16(\"12345\")\n"
   ]
  },
  {
   "cell_type": "code",
   "execution_count": 80,
   "metadata": {},
   "outputs": [
    {
     "name": "stdout",
     "output_type": "stream",
     "text": [
      "Help on class partial in module functools:\n",
      "\n",
      "class partial(builtins.object)\n",
      " |  partial(func, *args, **keywords) - new function with partial application\n",
      " |  of the given arguments and keywords.\n",
      " |  \n",
      " |  Methods defined here:\n",
      " |  \n",
      " |  __call__(self, /, *args, **kwargs)\n",
      " |      Call self as a function.\n",
      " |  \n",
      " |  __delattr__(self, name, /)\n",
      " |      Implement delattr(self, name).\n",
      " |  \n",
      " |  __getattribute__(self, name, /)\n",
      " |      Return getattr(self, name).\n",
      " |  \n",
      " |  __new__(*args, **kwargs) from builtins.type\n",
      " |      Create and return a new object.  See help(type) for accurate signature.\n",
      " |  \n",
      " |  __reduce__(...)\n",
      " |      helper for pickle\n",
      " |  \n",
      " |  __repr__(self, /)\n",
      " |      Return repr(self).\n",
      " |  \n",
      " |  __setattr__(self, name, value, /)\n",
      " |      Implement setattr(self, name, value).\n",
      " |  \n",
      " |  __setstate__(...)\n",
      " |  \n",
      " |  ----------------------------------------------------------------------\n",
      " |  Data descriptors defined here:\n",
      " |  \n",
      " |  __dict__\n",
      " |  \n",
      " |  args\n",
      " |      tuple of arguments to future partial calls\n",
      " |  \n",
      " |  func\n",
      " |      function object to use in future partial calls\n",
      " |  \n",
      " |  keywords\n",
      " |      dictionary of keyword arguments to future partial calls\n",
      "\n"
     ]
    }
   ],
   "source": [
    "help(functools.partial)"
   ]
  }
 ],
 "metadata": {
  "kernelspec": {
   "display_name": "Python 3",
   "language": "python",
   "name": "python3"
  },
  "language_info": {
   "codemirror_mode": {
    "name": "ipython",
    "version": 3
   },
   "file_extension": ".py",
   "mimetype": "text/x-python",
   "name": "python",
   "nbconvert_exporter": "python",
   "pygments_lexer": "ipython3",
   "version": "3.6.5"
  }
 },
 "nbformat": 4,
 "nbformat_minor": 2
}
