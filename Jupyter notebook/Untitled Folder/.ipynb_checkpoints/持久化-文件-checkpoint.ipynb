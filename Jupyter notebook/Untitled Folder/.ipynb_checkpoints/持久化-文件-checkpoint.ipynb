{
 "cells": [
  {
   "cell_type": "markdown",
   "metadata": {},
   "source": [
    "# 文件\n",
    "- 长久保存信息的一种数据信息集合\n",
    "- 常用操作\n",
    "    - 打开关闭（文件一旦打开，需要关闭操作）\n",
    "    - 读写内容\n",
    "    - 查找\n",
    "# open函数\n",
    "- open函数负责打开文件，带有很多参数\n",
    "- 第一个参数：必须有，文件的路径和名称\n",
    "- mode：表明文件用什么方式打开\n",
    "    - r：以只读方式打开\n",
    "    - w：写方式打开，会覆盖以前的内容\n",
    "    - x：创建方式打开，如文件已经存在，则报错\n",
    "    - a：append方式，以追加的方式对文件内容进行写入\n",
    "    - b：binary方式，以二进制的方式进行写入\n",
    "    - t：文本方式打开\n",
    "    - +：可读写"
   ]
  },
  {
   "cell_type": "code",
   "execution_count": 3,
   "metadata": {},
   "outputs": [],
   "source": [
    "# 打开文件，用写的方式\n",
    "# r表示后面字符串内容不需要转义\n",
    "# f称之为文件句柄（打开文件的实例）\n",
    "f=open(r\"test.txt\",\"w\")\n",
    "\n",
    "f.close()\n",
    "# 此案例说明，以写的方式打开文件，默认是如果没有文件则会创建文件"
   ]
  },
  {
   "cell_type": "markdown",
   "metadata": {},
   "source": [
    "# with语句\n",
    "- with语句使用的技术是一种成为上下文管理协议的技术（ContextManagermentProtocal）\n",
    "- 自动判断文件的作用域，自动关闭不在使用的打开的文件句柄"
   ]
  },
  {
   "cell_type": "code",
   "execution_count": 4,
   "metadata": {},
   "outputs": [],
   "source": [
    "# with语句案例\n",
    "\n",
    "with open(r\"test.txt\",'r') as f:\n",
    "    pass\n",
    "    # 下面语句块开始对文件f进行操作\n",
    "    # 在本模块中不需要再使用close关闭文件f"
   ]
  },
  {
   "cell_type": "code",
   "execution_count": 2,
   "metadata": {},
   "outputs": [
    {
     "name": "stdout",
     "output_type": "stream",
     "text": [
      "mrking\n",
      "\n",
      "king\n",
      "\n",
      "ludan\n"
     ]
    }
   ],
   "source": [
    "with open(r\"test.txt\",\"r\") as f:\n",
    "    readline=f.readline()\n",
    "    while readline:\n",
    "        print(readline)\n",
    "        readline=f.readline()\n",
    "        "
   ]
  },
  {
   "cell_type": "code",
   "execution_count": 5,
   "metadata": {},
   "outputs": [
    {
     "name": "stdout",
     "output_type": "stream",
     "text": [
      "['mrking\\n', 'king\\n', 'ludan']\n",
      "mrking\n",
      "\n",
      "king\n",
      "\n",
      "ludan\n"
     ]
    }
   ],
   "source": [
    "# list能用打开的文件作为参数，把文件内每一行内容作为一个元素\n",
    "\n",
    "with open(r\"test.txt\",\"r\") as f:\n",
    "    l=list(f)\n",
    "    \n",
    "    print(l)\n",
    "    \n",
    "    for line in l:\n",
    "        print(line)"
   ]
  },
  {
   "cell_type": "code",
   "execution_count": 2,
   "metadata": {},
   "outputs": [
    {
     "name": "stdout",
     "output_type": "stream",
     "text": [
      "文件名为： test.txt\n",
      "mrking\n",
      "king\n",
      "luda"
     ]
    }
   ],
   "source": [
    "# read 是按照字符读取文件内容\n",
    "# 允许输入参数决定读取几个字符，如果没有指定，从当前位置读取到结尾\n",
    "# 否则，从当前位置读取指定个数字符\n",
    "\n",
    "with open(r\"test.txt\",\"r\") as  f:\n",
    "    print(\"文件名为：\",f.name)\n",
    "    list1=[]\n",
    "    for i in range(1,17):\n",
    "        \n",
    "        str1=f.read(1)\n",
    "        # end=\"\"，可以起到输出不换行的作用\n",
    "        print(str1,end=\"\")\n",
    "f.close()\n",
    "\n",
    "\n",
    "   "
   ]
  },
  {
   "cell_type": "code",
   "execution_count": 3,
   "metadata": {},
   "outputs": [
    {
     "name": "stdout",
     "output_type": "stream",
     "text": [
      "mrking\n",
      "king\n",
      "ludan"
     ]
    }
   ],
   "source": [
    "with open(f\"test.txt\",\"r\") as f:\n",
    "    str1=f.read(1)\n",
    "    while str1:\n",
    "        print(str1,end=\"\")\n",
    "        str1=f.read(1)"
   ]
  },
  {
   "cell_type": "code",
   "execution_count": null,
   "metadata": {},
   "outputs": [],
   "source": [
    "\n",
    "\n",
    "# seek(offset,from)\n",
    "- 移动文件的读取位置，也叫读取指针\n",
    "- form的取值范围\n",
    "    - 0：从文件头开始偏移\n",
    "    - 1：从文件当前位置开始偏移\n",
    "    - 2：从文件末尾开始偏移\n",
    "- 移动的单位是字节（byte）\n",
    "- 一个汉字由若干个字节组成\n",
    "- 返回的文件只针对当前位置"
   ]
  },
  {
   "cell_type": "code",
   "execution_count": 69,
   "metadata": {},
   "outputs": [
    {
     "name": "stdout",
     "output_type": "stream",
     "text": [
      "king\n",
      "ludan\n"
     ]
    }
   ],
   "source": [
    "# seek案例\n",
    "# 打开文件后，从第5个字节开始读取\n",
    "# 打开读写指针在0处，即在文件的开头\n",
    "\n",
    "with open(r\"test.txt\",\"r\") as f:\n",
    "    # seek移动单位是字节\n",
    "    f.seek(7,0)\n",
    "    strchar=f.read()\n",
    "    print(strchar)\n"
   ]
  },
  {
   "cell_type": "code",
   "execution_count": 5,
   "metadata": {},
   "outputs": [
    {
     "name": "stdout",
     "output_type": "stream",
     "text": [
      "mrk\n",
      "ing\n",
      "\n",
      "ki\n",
      "ng\n",
      "\n",
      "lud\n",
      "an\n"
     ]
    }
   ],
   "source": [
    "# 关于读取文件的练习\n",
    "# 打开文件，三个字一组输出内容，然后显示在屏幕上\n",
    "# 每读一次，休息一秒钟\n",
    "\n",
    "# 让程序暂停，可以使用time下的sleep函数\n",
    "\n",
    "import time\n",
    "\n",
    "with open(r\"test.txt\",\"r\") as f:\n",
    "    str1=f.read(3)\n",
    "    while str1:\n",
    "        print(str1)\n",
    "        # sleep中的单位是秒 \n",
    "        time.sleep(1)\n",
    "        str1=f.read(3)\n",
    "    \n",
    "    \n",
    "    \n",
    "    \n",
    "    \n",
    "    "
   ]
  },
  {
   "cell_type": "code",
   "execution_count": 9,
   "metadata": {},
   "outputs": [
    {
     "name": "stdout",
     "output_type": "stream",
     "text": [
      "3\n",
      "mrk\n",
      "6\n",
      "ing\n",
      "9\n",
      "\n",
      "ki\n",
      "12\n",
      "ng\n",
      "\n",
      "15\n",
      "lud\n",
      "17\n",
      "an\n"
     ]
    }
   ],
   "source": [
    "# tell函数：用来显示文件读写指针的当前位置\n",
    "with open(r\"test.txt\",\"r\") as f:\n",
    "    strChar=f.read(3)\n",
    "    pos=f.tell()\n",
    "    while strChar:\n",
    "        print(pos)\n",
    "        print(strChar)\n",
    "        \n",
    "        strChar=f.read(3)\n",
    "        pos=f.tell()\n",
    "# 此案例说明tell的返回结果的单位是byte，read是以字符为单位"
   ]
  },
  {
   "cell_type": "markdown",
   "metadata": {},
   "source": [
    "# 文件的写操作-write\n",
    "- write(str):把字符串写入文件\n",
    "- writeline(str):把字符串按行写入文件\n",
    "- 区别：\n",
    "    - write函数参数只能是字符串\n",
    "    - writeline参数可以是字符串，也可以是字符序列"
   ]
  },
  {
   "cell_type": "code",
   "execution_count": 17,
   "metadata": {},
   "outputs": [],
   "source": [
    "# 注意的是write（）方法是写入字符串\n",
    "# writelines方法写入的是可迭代的序列，如需换行则应添加换行符"
   ]
  },
  {
   "cell_type": "markdown",
   "metadata": {},
   "source": [
    "# 持久化 -pickle\n",
    "- 序列化 ：把程序运行中的信息保存在磁盘上\n",
    "- 反序列化：序列化的逆过程\n",
    "- pickle： python提供的序列化模块\n",
    "- pickle.dump:序列化\n",
    "- pickle.load:反序列化"
   ]
  },
  {
   "cell_type": "code",
   "execution_count": 19,
   "metadata": {},
   "outputs": [],
   "source": [
    " # 序列化案例\n",
    "import pickle\n",
    "age=19\n",
    "with open(r\"test.txt\",\"wb\") as f:\n",
    "    pickle.dump(age,f)\n",
    "f.close()\n",
    "\n"
   ]
  },
  {
   "cell_type": "code",
   "execution_count": 23,
   "metadata": {},
   "outputs": [
    {
     "name": "stdout",
     "output_type": "stream",
     "text": [
      "19\n"
     ]
    }
   ],
   "source": [
    "# 反序列化案例\n",
    "with open(r\"test.txt\",\"rb\") as f:\n",
    "    age=pickle.load(f)\n",
    "    print(age)"
   ]
  },
  {
   "cell_type": "markdown",
   "metadata": {},
   "source": [
    "# OPEN函数语法：\n",
    "- 不同模式打开文件的完全列表\n",
    "    - r:以只读方式打开文件。文件的指针将会放在文件的开头。这是默认模式\n",
    "    - rb:以二进制的格式打开一个文件用于只读。文件指针将会放在文件的开头。这是默认模式\n",
    "    - r+：打开一个文件用于读写，文件指针将会放在文件的开头\n",
    "    - rb+：以二进制的格式打开一个文件用于读写。文件指针将会放在文件开头\n",
    "    - w:打开一个文件只用于写入。如果该文件存在则打开文件，并从头开始编辑，即原有内容会被删除。如果文件不存在，创建新文件\n",
    "    - wb：以二进制格式打开一个文件只用于写入\n",
    "    - w+：打开一个文件用于读写\n",
    "    - wb+：以二进制打开一个文件用于读写\n",
    "    - a：打开一个文件用于追加，如果文件存在，则打开文件并从末尾编辑，如果文件不存在则新建文件。\n",
    "    - ab：以二进制格式打开一个文件用于追加。\n",
    "    - a+：打开一个文件进行读写。（追加）\n",
    "    - ab+：以二进制格式打开一个文件用于追加。如果文件已经存在，文件指针将会放在文件的结尾。如果该文件不存在，创建新文件用于读写"
   ]
  },
  {
   "cell_type": "code",
   "execution_count": 24,
   "metadata": {},
   "outputs": [],
   "source": [
    "a=[18,\"mrking\",\"what are you nongshalei\",[1,2,3]]\n",
    "with open(r\"test.txt\",\"wb\") as f:\n",
    "    pickle.dump(a,f)"
   ]
  },
  {
   "cell_type": "code",
   "execution_count": 25,
   "metadata": {},
   "outputs": [
    {
     "name": "stdout",
     "output_type": "stream",
     "text": [
      "[18, 'mrking', 'what are you nongshalei', [1, 2, 3]]\n"
     ]
    }
   ],
   "source": [
    "with open(r\"test.txt\",\"rb\") as f:\n",
    "    a=pickle.load(f)\n",
    "    print(a)"
   ]
  },
  {
   "cell_type": "markdown",
   "metadata": {},
   "source": [
    "# 持久化-shelve\n",
    "- 持久化工具\n",
    "- 类似字典\n",
    "- open，close"
   ]
  },
  {
   "cell_type": "code",
   "execution_count": 27,
   "metadata": {},
   "outputs": [],
   "source": [
    "# 使用shelve创建文件使用\n",
    "import shelve\n",
    "\n",
    "# 打开文件\n",
    "# shv相当于一个字典\n",
    "shv=shelve.open(r\"test.db\")\n",
    "\n",
    "shv[\"one\"]=1\n",
    "shv[\"two\"]=2\n",
    "\n",
    "shv.close()\n",
    "# 通过以上案例发现，shelve自动创建的不仅仅是一个shv.db文件，还包括其他文件，相当于数据库"
   ]
  },
  {
   "cell_type": "code",
   "execution_count": 28,
   "metadata": {},
   "outputs": [
    {
     "name": "stdout",
     "output_type": "stream",
     "text": [
      "1\n"
     ]
    }
   ],
   "source": [
    "shv=shelve.open(r\"test.db\")\n",
    "\n",
    "print(shv[\"one\"])"
   ]
  },
  {
   "cell_type": "markdown",
   "metadata": {},
   "source": [
    "# shelve特性\n",
    "- 不支持多个应用并行写入\n",
    "- 需要写回。强制写回加参数writeback=True\n",
    "- shelve同样支持with"
   ]
  },
  {
   "cell_type": "code",
   "execution_count": null,
   "metadata": {},
   "outputs": [],
   "source": []
  }
 ],
 "metadata": {
  "kernelspec": {
   "display_name": "Python 3",
   "language": "python",
   "name": "python3"
  },
  "language_info": {
   "codemirror_mode": {
    "name": "ipython",
    "version": 3
   },
   "file_extension": ".py",
   "mimetype": "text/x-python",
   "name": "python",
   "nbconvert_exporter": "python",
   "pygments_lexer": "ipython3",
   "version": "3.6.5"
  }
 },
 "nbformat": 4,
 "nbformat_minor": 2
}
