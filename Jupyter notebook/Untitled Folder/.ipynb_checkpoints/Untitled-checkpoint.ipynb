{
 "cells": [
  {
   "cell_type": "code",
   "execution_count": 13,
   "metadata": {},
   "outputs": [
    {
     "name": "stdout",
     "output_type": "stream",
     "text": [
      "泥嚎,我是mrking,我叫女的\n"
     ]
    }
   ],
   "source": [
    "def hello(name,sex):\n",
    "    sex_name={1:\"男的\",2:\"女的\"}\n",
    "    print(\"泥嚎,我是{0},我叫{1}\".format(name,sex_name.get(sex)))\n",
    "    \n",
    "\n",
    "hello(\"mrking\",2)"
   ]
  },
  {
   "cell_type": "code",
   "execution_count": 17,
   "metadata": {},
   "outputs": [
    {
     "name": "stdout",
     "output_type": "stream",
     "text": [
      "我叫1，我今年2\n"
     ]
    }
   ],
   "source": [
    "def a(*args):\n",
    "    print(\"我叫{0}，我今年{1}\".format(*args))\n",
    "a(1,2)"
   ]
  },
  {
   "cell_type": "code",
   "execution_count": 1,
   "metadata": {},
   "outputs": [
    {
     "name": "stdout",
     "output_type": "stream",
     "text": [
      "a\n"
     ]
    }
   ],
   "source": [
    "print(\"a\")"
   ]
  },
  {
   "cell_type": "code",
   "execution_count": 10,
   "metadata": {},
   "outputs": [
    {
     "name": "stdout",
     "output_type": "stream",
     "text": [
      "1\n",
      "1\n",
      "1\n",
      "1604953232\n",
      "1\n",
      "1604953232\n"
     ]
    }
   ],
   "source": [
    "class a():\n",
    "    name=2\n",
    "    def aa(self):\n",
    "        self.name=1\n",
    "        print(self.name)\n",
    "    def bb(s):\n",
    "        \n",
    "        print(s.name)\n",
    "mm=a()\n",
    "mm.aa()\n",
    "mm.bb()\n",
    "print(id(mm.aa()))\n",
    "print(id(mm.bb()))"
   ]
  },
  {
   "cell_type": "code",
   "execution_count": 1,
   "metadata": {},
   "outputs": [
    {
     "name": "stdout",
     "output_type": "stream",
     "text": [
      "mrking\n",
      "13\n"
     ]
    }
   ],
   "source": [
    "class Person():\n",
    "    name=\"mrking\"\n",
    "    _age=13\n",
    "    \n",
    "p=Person()\n",
    "\n",
    "print(p.name)\n",
    "print(p._age)"
   ]
  },
  {
   "cell_type": "code",
   "execution_count": 8,
   "metadata": {},
   "outputs": [
    {
     "name": "stdout",
     "output_type": "stream",
     "text": [
      "张三\n",
      "20\n",
      "张三\n",
      "20\n",
      "{'__module__': '__main__', 'f1': <function Test1.f1 at 0x000002124D02FD08>, '__dict__': <attribute '__dict__' of 'Test1' objects>, '__weakref__': <attribute '__weakref__' of 'Test1' objects>, '__doc__': None}\n",
      "21\n",
      "张三\n",
      "20\n"
     ]
    }
   ],
   "source": [
    "class Test1:\n",
    "    def f1(self):\n",
    "        self.name=\"张三\"\n",
    "        self._age=20\n",
    "        print(self.name)\n",
    "        print(self._age)\n",
    "        \n",
    "class Test2(Test1):\n",
    "    def f(self):\n",
    "        print(self.name)\n",
    "        print(self._age)\n",
    "        \n",
    "inst1=Test1()\n",
    "inst1.f1()\n",
    "\n",
    "Test2.f(inst1)\n",
    "\n",
    "print(Test1.__dict__)\n",
    "# 此处更改只是临时改变\n",
    "inst1._Test1__age=21\n",
    "print(inst1._Test1__age)\n",
    "inst1.f1()"
   ]
  },
  {
   "cell_type": "code",
   "execution_count": null,
   "metadata": {},
   "outputs": [],
   "source": []
  },
  {
   "cell_type": "code",
   "execution_count": null,
   "metadata": {},
   "outputs": [],
   "source": []
  },
  {
   "cell_type": "code",
   "execution_count": null,
   "metadata": {},
   "outputs": [],
   "source": []
  },
  {
   "cell_type": "code",
   "execution_count": null,
   "metadata": {},
   "outputs": [],
   "source": []
  },
  {
   "cell_type": "code",
   "execution_count": null,
   "metadata": {},
   "outputs": [],
   "source": []
  },
  {
   "cell_type": "code",
   "execution_count": null,
   "metadata": {},
   "outputs": [],
   "source": []
  },
  {
   "cell_type": "code",
   "execution_count": null,
   "metadata": {},
   "outputs": [],
   "source": []
  },
  {
   "cell_type": "code",
   "execution_count": null,
   "metadata": {},
   "outputs": [],
   "source": []
  },
  {
   "cell_type": "code",
   "execution_count": null,
   "metadata": {},
   "outputs": [],
   "source": []
  },
  {
   "cell_type": "code",
   "execution_count": null,
   "metadata": {},
   "outputs": [],
   "source": []
  },
  {
   "cell_type": "code",
   "execution_count": null,
   "metadata": {},
   "outputs": [],
   "source": []
  },
  {
   "cell_type": "code",
   "execution_count": null,
   "metadata": {},
   "outputs": [],
   "source": []
  },
  {
   "cell_type": "code",
   "execution_count": null,
   "metadata": {},
   "outputs": [],
   "source": []
  },
  {
   "cell_type": "code",
   "execution_count": null,
   "metadata": {},
   "outputs": [],
   "source": []
  },
  {
   "cell_type": "code",
   "execution_count": null,
   "metadata": {},
   "outputs": [],
   "source": []
  },
  {
   "cell_type": "code",
   "execution_count": null,
   "metadata": {},
   "outputs": [],
   "source": []
  },
  {
   "cell_type": "code",
   "execution_count": null,
   "metadata": {},
   "outputs": [],
   "source": []
  },
  {
   "cell_type": "code",
   "execution_count": null,
   "metadata": {},
   "outputs": [],
   "source": []
  },
  {
   "cell_type": "code",
   "execution_count": null,
   "metadata": {},
   "outputs": [],
   "source": []
  },
  {
   "cell_type": "code",
   "execution_count": null,
   "metadata": {},
   "outputs": [],
   "source": []
  },
  {
   "cell_type": "code",
   "execution_count": null,
   "metadata": {},
   "outputs": [],
   "source": []
  },
  {
   "cell_type": "code",
   "execution_count": null,
   "metadata": {},
   "outputs": [],
   "source": []
  },
  {
   "cell_type": "code",
   "execution_count": null,
   "metadata": {},
   "outputs": [],
   "source": []
  }
 ],
 "metadata": {
  "kernelspec": {
   "display_name": "Python 3",
   "language": "python",
   "name": "python3"
  },
  "language_info": {
   "codemirror_mode": {
    "name": "ipython",
    "version": 3
   },
   "file_extension": ".py",
   "mimetype": "text/x-python",
   "name": "python",
   "nbconvert_exporter": "python",
   "pygments_lexer": "ipython3",
   "version": "3.6.5"
  }
 },
 "nbformat": 4,
 "nbformat_minor": 2
}
