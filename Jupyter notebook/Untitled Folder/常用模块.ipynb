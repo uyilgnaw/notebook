{
 "cells": [
  {
   "cell_type": "markdown",
   "metadata": {},
   "source": [
    "# os- 操作系统相关\n",
    "- 跟操作系统相关，主要是文件的操作\n",
    "- 于系统相关的操作，主要包含在三个模块里\n",
    "    - os，操作系统目录相关\n",
    "    - os.path, 系统路径相关操作\n",
    "    - shutil, 高级文件操作，目录树的操作，文件复制，删除，移动\n",
    "- 路径：\n",
    "    - 绝对路径： 总是从根目录上开始\n",
    "    - 相对路径： 基本以当前环境为开始的一个相对的地方\n",
    "    \n",
    "    "
   ]
  },
  {
   "cell_type": "markdown",
   "metadata": {},
   "source": [
    "# OS 模块"
   ]
  },
  {
   "cell_type": "code",
   "execution_count": 2,
   "metadata": {},
   "outputs": [],
   "source": [
    "import os"
   ]
  },
  {
   "cell_type": "code",
   "execution_count": 6,
   "metadata": {},
   "outputs": [
    {
     "name": "stdout",
     "output_type": "stream",
     "text": [
      "C:\\Users\\meridian\\Untitled Folder\n"
     ]
    }
   ],
   "source": [
    "# getcwd() 获取当前的工作目录\n",
    "# 格式： os.getcwd()\n",
    "#返回值：当前工作目录的字符串\n",
    "#当前工作目录就是程序在进行文件相关操作，默认查找文件的目录\n",
    "\n",
    "mydir=os.getcwd()\n",
    "print(mydir)"
   ]
  },
  {
   "cell_type": "code",
   "execution_count": 12,
   "metadata": {},
   "outputs": [],
   "source": [
    "#chdir() 改变当前的工作目录\n",
    "#格式：os.chdir(路径)\n",
    "#返回值：无\n",
    "os.chdir('路径名称')\n"
   ]
  },
  {
   "cell_type": "code",
   "execution_count": 17,
   "metadata": {},
   "outputs": [
    {
     "name": "stdout",
     "output_type": "stream",
     "text": [
      "['.ipynb_checkpoints', 'Untitled.ipynb', '基础.ipynb', '常用模块.ipynb']\n"
     ]
    }
   ],
   "source": [
    "#listdir() 获取一个目录中所有子目录和文件的名称列表\n",
    "#格式：os.listdir(路径)\n",
    "#返回值：所有子目录和文件名称的列表\n",
    "\n",
    "ld=os.listdir(mydir)\n",
    "print(ld)\n"
   ]
  },
  {
   "cell_type": "code",
   "execution_count": null,
   "metadata": {},
   "outputs": [],
   "source": [
    "#makedirs() 递归创建文件夹\n",
    "# 格式： os.makedirs(递归路径)\n",
    "#返回值：无\n",
    "#递归路径：多个文件夹层层包含的路径就是递归路径 例如 a/b/c....\n",
    "os.makedirs('路径名称')\n",
    "# 如果不适用绝对路径，则在当前目录下进行创建\n",
    "\n"
   ]
  },
  {
   "cell_type": "code",
   "execution_count": 18,
   "metadata": {},
   "outputs": [
    {
     "data": {
      "text/plain": [
       "1"
      ]
     },
     "execution_count": 18,
     "metadata": {},
     "output_type": "execute_result"
    }
   ],
   "source": [
    "#system() 运行系统shell命令\n",
    "#格式：os.system（系统命令）\n",
    "#返回值：打开一个shell或者终端界面\n",
    "#一般推荐使用subprocess代替\n",
    "\n",
    "os.system(\"系统命令\")\n",
    " "
   ]
  },
  {
   "cell_type": "code",
   "execution_count": 21,
   "metadata": {},
   "outputs": [
    {
     "name": "stdout",
     "output_type": "stream",
     "text": [
      "D:\\ProgramData\\Anaconda3;D:\\ProgramData\\Anaconda3\\Library\\mingw-w64\\bin;D:\\ProgramData\\Anaconda3\\Library\\usr\\bin;D:\\ProgramData\\Anaconda3\\Library\\bin;D:\\ProgramData\\Anaconda3\\Scripts;D:\\ProgramData\\Anaconda3;D:\\ProgramData\\Anaconda3\\Library\\mingw-w64\\bin;D:\\ProgramData\\Anaconda3\\Library\\usr\\bin;D:\\ProgramData\\Anaconda3\\Library\\bin;D:\\ProgramData\\Anaconda3\\Scripts;C:\\Program Files (x86)\\Intel\\iCLS Client\\;C:\\Program Files\\Microsoft MPI\\Bin\\;C:\\ProgramData\\Oracle\\Java\\javapath;C:\\Program Files\\Intel\\iCLS Client\\;C:\\Windows\\system32;C:\\Windows;C:\\Windows\\System32\\Wbem;C:\\Windows\\System32\\WindowsPowerShell\\v1.0\\;C:\\Program Files (x86)\\NVIDIA Corporation\\PhysX\\Common;C:\\Program Files (x86)\\Microsoft SQL Server\\130\\Tools\\Binn\\;C:\\Program Files\\Microsoft SQL Server\\130\\Tools\\Binn\\;C:\\Program Files\\Microsoft SQL Server\\130\\DTS\\Binn\\;C:\\Program Files\\Microsoft SQL Server\\Client SDK\\ODBC\\130\\Tools\\Binn\\;C:\\Program Files (x86)\\Microsoft SQL Server\\Client SDK\\ODBC\\130\\Tools\\Binn\\;C:\\Program Files (x86)\\Microsoft SQL Server\\140\\Tools\\Binn\\;C:\\Program Files (x86)\\Microsoft SQL Server\\140\\DTS\\Binn\\;C:\\Program Files (x86)\\Microsoft SQL Server\\140\\Tools\\Binn\\ManagementStudio\\;C:\\WINDOWS\\system32;C:\\WINDOWS;C:\\WINDOWS\\System32\\Wbem;C:\\WINDOWS\\System32\\WindowsPowerShell\\v1.0\\;C:\\Program Files (x86)\\Intel\\Intel(R) Management Engine Components\\DAL;C:\\Program Files\\Intel\\Intel(R) Management Engine Components\\DAL;C:\\Program Files (x86)\\Intel\\Intel(R) Management Engine Components\\IPT;C:\\Program Files\\Intel\\Intel(R) Management Engine Components\\IPT;D:\\Program Files\\Git\\cmd;C:\\mysql\\bin;C:\\Program Files\\IDM Computer Solutions\\UltraEdit;C:\\Program Files\\IDM Computer Solutions\\UltraCompare;C:\\Users\\meridian\\AppData\\Local\\Microsoft\\WindowsApps;C:\\Python27;C:\\Users\\meridian\\AppData\\Local\\Programs\\Python\\Python36-32;C:\\Python27\\Scripts;;C:\\Program Files\\Microsoft VS Code\\bin\n"
     ]
    }
   ],
   "source": [
    "#getnv() 获取指定的系统环境变量值\n",
    "# 格式：os.getenv('环境变量名')\n",
    "#相应的还有putenv()\n",
    "# 返回值：指定环境变量名对应的值\n",
    "ls=os.getenv(\"path\")\n",
    "print(ls)"
   ]
  },
  {
   "cell_type": "code",
   "execution_count": null,
   "metadata": {},
   "outputs": [],
   "source": [
    "# exit() 退出当前程序\n",
    "# 格式： exit（）\n",
    "# 返回值： 无"
   ]
  },
  {
   "cell_type": "markdown",
   "metadata": {},
   "source": [
    "# 值部分\n",
    "- os.curdir: curretn dir,当前目录\n",
    "- os.pardir: parent dir, 父目录\n",
    "- os.sep: 当前系统的路径分隔符\n",
    "- od.linesep: 当前系统的路径换行符\n",
    "- os.name: 当前系统名称\n",
    "\n",
    " "
   ]
  },
  {
   "cell_type": "code",
   "execution_count": 3,
   "metadata": {},
   "outputs": [
    {
     "name": "stdout",
     "output_type": "stream",
     "text": [
      "..\n",
      ".\n"
     ]
    }
   ],
   "source": [
    "print(os.pardir)\n",
    "print(os.curdir)"
   ]
  },
  {
   "cell_type": "code",
   "execution_count": 5,
   "metadata": {},
   "outputs": [
    {
     "name": "stdout",
     "output_type": "stream",
     "text": [
      "\\\n"
     ]
    }
   ],
   "source": [
    "print(os.sep)"
   ]
  },
  {
   "cell_type": "code",
   "execution_count": 6,
   "metadata": {},
   "outputs": [
    {
     "name": "stdout",
     "output_type": "stream",
     "text": [
      "\r\n",
      "\n"
     ]
    }
   ],
   "source": [
    "print(os.linesep)\n",
    "#windows的换行符是\\r\\n\n"
   ]
  },
  {
   "cell_type": "code",
   "execution_count": 7,
   "metadata": {},
   "outputs": [
    {
     "name": "stdout",
     "output_type": "stream",
     "text": [
      "<module 'ntpath' from 'D:\\\\ProgramData\\\\Anaconda3\\\\lib\\\\ntpath.py'>\n"
     ]
    }
   ],
   "source": [
    "print(os.path)"
   ]
  },
  {
   "cell_type": "code",
   "execution_count": 8,
   "metadata": {},
   "outputs": [
    {
     "name": "stdout",
     "output_type": "stream",
     "text": [
      "nt\n"
     ]
    }
   ],
   "source": [
    "print(os.name)\n",
    "#windows操作系统的名称为nt\n",
    "#linux操作系统是posix"
   ]
  },
  {
   "cell_type": "markdown",
   "metadata": {},
   "source": [
    "# os.path模块，跟路径相关的模块"
   ]
  },
  {
   "cell_type": "code",
   "execution_count": 9,
   "metadata": {},
   "outputs": [
    {
     "name": "stdout",
     "output_type": "stream",
     "text": [
      "C:\\Users\\meridian\\Untitled Folder\n"
     ]
    }
   ],
   "source": [
    "# abspath() 将路径转化为绝对路径\n",
    "# 格式： os.path.abspath('路径')\n",
    "#返回值：路径的绝对路径形式\n",
    "#.代表当前路径\n",
    "#..代表绝对路径\n",
    "absp=os.path.abspath(\".\")\n",
    "print(absp)\n",
    "\n"
   ]
  },
  {
   "cell_type": "code",
   "execution_count": 13,
   "metadata": {},
   "outputs": [
    {
     "name": "stdout",
     "output_type": "stream",
     "text": [
      "Untitled Folder\n"
     ]
    }
   ],
   "source": [
    "# basename() 获取路径中的文件名部分\n",
    "# 格式 :os.path.basename(路径)\n",
    "# 返回值： 文件名字符串\n",
    "bas=os.path.basename(absp)\n",
    "print(bas)\n"
   ]
  },
  {
   "cell_type": "code",
   "execution_count": 17,
   "metadata": {},
   "outputs": [
    {
     "name": "stdout",
     "output_type": "stream",
     "text": [
      "C:/nima/ niba/nimei\n",
      "C:/nima/niba/nimei\n"
     ]
    }
   ],
   "source": [
    "# join() 将多个路径拼成一个路径\n",
    "#  格式： os.path.join(路径1，路径2....)\n",
    "#  返回值：组合之后的新路径字符串\n",
    "a=\"C:/nima/\"\n",
    "b=\"niba/nimei\"\n",
    "\n",
    "print(a,b)\n",
    "p=os.path.join(a,b)\n",
    "print(p)\n",
    "\n",
    "\n"
   ]
  },
  {
   "cell_type": "code",
   "execution_count": 19,
   "metadata": {},
   "outputs": [
    {
     "name": "stdout",
     "output_type": "stream",
     "text": [
      "<class 'tuple'>\n",
      "('C:\\\\Users\\\\meridian', 'Untitled Folder')\n",
      "C:\\Users\\meridian\n",
      "Untitled Folder\n"
     ]
    }
   ],
   "source": [
    "# split() 将路径切割为文件夹部分和当前文件部分\n",
    "# 格式： os.path.split(路径)\n",
    "#  返回值：路径和文件名组成的元组\n",
    "\n",
    "a=os.path.split(absp)\n",
    "print(type(a))\n",
    "print(a)\n",
    "for i in a:\n",
    "    print(i)\n",
    "\n",
    "\n",
    "\n"
   ]
  },
  {
   "cell_type": "code",
   "execution_count": 22,
   "metadata": {},
   "outputs": [
    {
     "name": "stdout",
     "output_type": "stream",
     "text": [
      "True\n"
     ]
    }
   ],
   "source": [
    "# isdir() 检测是否是目录\n",
    "# 格式：os.path.isdir(路径)\n",
    "# 返回值：布尔值\n",
    "\n",
    "i=os.path.isdir(absp)\n",
    "print(i)\n",
    "\n"
   ]
  },
  {
   "cell_type": "code",
   "execution_count": 23,
   "metadata": {},
   "outputs": [
    {
     "name": "stdout",
     "output_type": "stream",
     "text": [
      "True\n"
     ]
    }
   ],
   "source": [
    "# exists() 检测文件或者目录是否存在\n",
    "\n",
    "# 格式：os.path.exists(路径)\n",
    "\n",
    "# 返回值：布尔值\n",
    "\n",
    "e=os.path.exists(absp)\n",
    "print(e)"
   ]
  },
  {
   "cell_type": "markdown",
   "metadata": {},
   "source": [
    "# shutil  模块"
   ]
  },
  {
   "cell_type": "code",
   "execution_count": 24,
   "metadata": {},
   "outputs": [],
   "source": [
    "import shutil"
   ]
  },
  {
   "cell_type": "code",
   "execution_count": 26,
   "metadata": {},
   "outputs": [
    {
     "name": "stdout",
     "output_type": "stream",
     "text": [
      "C:/Users/meridian/Desktop/新文件.xlsx\n"
     ]
    }
   ],
   "source": [
    "# copy() 复制文件\n",
    "# 格式： shutil.copy(来源路径，目标路径)\n",
    "\n",
    "# 返回值：返回目标路径\n",
    "\n",
    "#拷贝的同时可以给文件重命名\n",
    "\n",
    "rst=shutil.copy(\"C:/Users/meridian/Desktop/肺CT数据.xlsx\",\"C:/Users/meridian/Desktop/新文件.xlsx\")\n",
    "print(rst)"
   ]
  },
  {
   "cell_type": "code",
   "execution_count": 27,
   "metadata": {},
   "outputs": [],
   "source": [
    "# copy2() 复制文件，保留元数据（文件信息）\n",
    "# 格式： shutil.copy2(来源路径，目标路径)\n",
    "# 返回值：返回目标路径\n",
    "\n",
    "# 注意：唯一区别是copy2复制文件时尽量保留元数据"
   ]
  },
  {
   "cell_type": "code",
   "execution_count": null,
   "metadata": {},
   "outputs": [],
   "source": [
    "# copyfile() 将一个文件中的内容复制到另一个文件当中\n",
    "# 格式：shutil.copyfile(原路径，目标路径)\n",
    "# 返回值：无\n",
    "\n",
    "\n"
   ]
  },
  {
   "cell_type": "code",
   "execution_count": 28,
   "metadata": {},
   "outputs": [
    {
     "data": {
      "text/plain": [
       "'D:/处理.xlsx'"
      ]
     },
     "execution_count": 28,
     "metadata": {},
     "output_type": "execute_result"
    }
   ],
   "source": [
    "# move() 移动文件/文件夹\n",
    "# 格式： shutil.move(原路径，目标路径)\n",
    "# 返回值：目标路径！\n",
    "\n",
    "shutil.move(\"C:/Users/meridian/Desktop/处理.xlsx\",\"D:/\")"
   ]
  },
  {
   "cell_type": "markdown",
   "metadata": {},
   "source": [
    "# 归档和压缩\n",
    "- 归档： 把多个文件或者文件夹合并到一个文件当中\n",
    "- 压缩： 用算法把多个文件或者文件夹无损或者有损合并到一个文件当中"
   ]
  },
  {
   "cell_type": "code",
   "execution_count": 33,
   "metadata": {},
   "outputs": [
    {
     "data": {
      "text/plain": [
       "'C:\\\\Users\\\\meridian\\\\Desktop\\\\归档文件\\\\a.zip'"
      ]
     },
     "execution_count": 33,
     "metadata": {},
     "output_type": "execute_result"
    }
   ],
   "source": [
    "# make_archive() 归档操作\n",
    "# 格式： shutil.make_archive(\"归档之后的目录和文件名\"，\"后缀\",\"需要归档的文件夹\")\n",
    "# 返回值：归档之后的地址\n",
    "\n",
    "shutil.make_archive('C:/Users/meridian/Desktop/归档文件/a','zip','C:/Users/meridian/Desktop/123')\n",
    "\n"
   ]
  },
  {
   "cell_type": "code",
   "execution_count": null,
   "metadata": {},
   "outputs": [],
   "source": [
    "# unpack_archive() 解包操作\n",
    "# 格式： shutil.unpack_archive(\"归档文件地址\"，\"解包之后的地址\")\n",
    "\n",
    "# 返回值:解包之后的地址\n",
    "\n",
    "\n"
   ]
  },
  {
   "cell_type": "markdown",
   "metadata": {},
   "source": [
    "# zip -压缩包\n",
    "- 包名 zipfile"
   ]
  },
  {
   "cell_type": "code",
   "execution_count": 34,
   "metadata": {},
   "outputs": [],
   "source": [
    "import zipfile"
   ]
  },
  {
   "cell_type": "code",
   "execution_count": 37,
   "metadata": {},
   "outputs": [],
   "source": [
    "# zipfile.zipfile(file)\n",
    "# 创建一个ZipFile对象，表示一个zip文件。参数file表示文件的路径或类文件对象\n",
    "zf=zipfile.ZipFile(\"C:/Users/meridian/Desktop/归档文件/a.zip\")\n",
    "\n"
   ]
  },
  {
   "cell_type": "code",
   "execution_count": 40,
   "metadata": {},
   "outputs": [
    {
     "ename": "KeyError",
     "evalue": "\"There is no item named '文件名' in the archive\"",
     "traceback": [
      "\u001b[1;31m---------------------------------------------------------------------------\u001b[0m",
      "\u001b[1;31mKeyError\u001b[0m                                  Traceback (most recent call last)",
      "\u001b[1;32m<ipython-input-40-1d4f6be5eb49>\u001b[0m in \u001b[0;36m<module>\u001b[1;34m()\u001b[0m\n\u001b[0;32m      2\u001b[0m \u001b[1;31m# 获取zip文档内指定文件的信息。返回一个zipfile.ZipInfo对象，它包括文件的详细信息。\u001b[0m\u001b[1;33m\u001b[0m\u001b[1;33m\u001b[0m\u001b[0m\n\u001b[0;32m      3\u001b[0m \u001b[1;33m\u001b[0m\u001b[0m\n\u001b[1;32m----> 4\u001b[1;33m \u001b[0minf\u001b[0m\u001b[1;33m=\u001b[0m\u001b[0mzf\u001b[0m\u001b[1;33m.\u001b[0m\u001b[0mgetinfo\u001b[0m\u001b[1;33m(\u001b[0m\u001b[1;34m\"文件名\"\u001b[0m\u001b[1;33m)\u001b[0m\u001b[1;33m\u001b[0m\u001b[0m\n\u001b[0m",
      "\u001b[1;32mD:\\ProgramData\\Anaconda3\\lib\\zipfile.py\u001b[0m in \u001b[0;36mgetinfo\u001b[1;34m(self, name)\u001b[0m\n\u001b[0;32m   1279\u001b[0m         \u001b[1;32mif\u001b[0m \u001b[0minfo\u001b[0m \u001b[1;32mis\u001b[0m \u001b[1;32mNone\u001b[0m\u001b[1;33m:\u001b[0m\u001b[1;33m\u001b[0m\u001b[0m\n\u001b[0;32m   1280\u001b[0m             raise KeyError(\n\u001b[1;32m-> 1281\u001b[1;33m                 'There is no item named %r in the archive' % name)\n\u001b[0m\u001b[0;32m   1282\u001b[0m \u001b[1;33m\u001b[0m\u001b[0m\n\u001b[0;32m   1283\u001b[0m         \u001b[1;32mreturn\u001b[0m \u001b[0minfo\u001b[0m\u001b[1;33m\u001b[0m\u001b[0m\n",
      "\u001b[1;31mKeyError\u001b[0m: \"There is no item named '文件名' in the archive\""
     ],
     "output_type": "error"
    }
   ],
   "source": [
    "#ZipFile.getinfo(name):\n",
    "# 获取zip文档内指定文件的信息。返回一个zipfile.ZipInfo对象，它包括文件的详细信息。\n",
    "\n",
    "inf=zf.getinfo(\"文件名\")"
   ]
  },
  {
   "cell_type": "code",
   "execution_count": 42,
   "metadata": {},
   "outputs": [
    {
     "name": "stdout",
     "output_type": "stream",
     "text": [
      "['1.预处理VBA/', '2.数值清洗VBA/', '3.最终结果vba/', '文本类预处理/', '1.预处理VBA/0.0检查2个文件各列是否数量一致（V0.5）.xlsm', '1.预处理VBA/0.0检查2个文件各列是否数量一致（V0.7）.xlsm', '1.预处理VBA/0.0检查2个文件各列是否数量一致（V0.8）.xlsm', '1.预处理VBA/0.0检查2个文件各列是否数量一致（V0.9）.xlsm', '1.预处理VBA/0.1统一参考值和分类文件结构（V0.6）.xlsm', '1.预处理VBA/0.2从总Range文件提取各指标Range+频数（V1.1）.xlsm', '1.预处理VBA/1.1预处理_检查换行符、空列、弃检；删除空列、生成变量分类文件（V7.0）.xlsm', '1.预处理VBA/1.1预处理_检查换行符、空列、弃检；删除空列、生成变量分类文件（V7.1）2.xlsm', '1.预处理VBA/1.1预处理_检查空列、检查弃检、删除空列、生成变量分类文件（V6.3）.xlsm', '1.预处理VBA/1.2拆分为数值类、文本类文件（屏蔽生成变量对应表）（V2.6）.xlsm', '1.预处理VBA/1.3数值类文件附加未初步转换source列（V1.1）.xlsm', '1.预处理VBA/2.0+2检查二次转换文件.txt', '2.数值清洗VBA/2.0文本格式数字转换+全局替换特殊符号（V0.5）（复制代码到需处理文件）.txt', '2.数值清洗VBA/2.1二次转换前-规范数据生成等辅助处理.txt', '3.最终结果vba/2.1数值类_变量合并（V4.5.1）（只合并，不判断重复值）.xlsm', '3.最终结果vba/2.2数值类_处理变量合并后3文件重复值（V0.9）.xlsm', '3.最终结果vba/2.n数值类-最终检查公式生成.xlsx', '文本类预处理/3.1文本类_复制小结（需处理内容复制到本文件）（V2.5）.xlsm', '文本类预处理/3.2文本类_变量复制_表头整理_确保原始名不重（V1.2）.xlsm', '文本类预处理/3.4文本类_统计毛工作量（V1.1）（区分任何差异）.xlsm']\n",
      "1.预处理VBA/\n",
      "2.数值清洗VBA/\n",
      "3.最终结果vba/\n",
      "文本类预处理/\n",
      "1.预处理VBA/0.0检查2个文件各列是否数量一致（V0.5）.xlsm\n",
      "1.预处理VBA/0.0检查2个文件各列是否数量一致（V0.7）.xlsm\n",
      "1.预处理VBA/0.0检查2个文件各列是否数量一致（V0.8）.xlsm\n",
      "1.预处理VBA/0.0检查2个文件各列是否数量一致（V0.9）.xlsm\n",
      "1.预处理VBA/0.1统一参考值和分类文件结构（V0.6）.xlsm\n",
      "1.预处理VBA/0.2从总Range文件提取各指标Range+频数（V1.1）.xlsm\n",
      "1.预处理VBA/1.1预处理_检查换行符、空列、弃检；删除空列、生成变量分类文件（V7.0）.xlsm\n",
      "1.预处理VBA/1.1预处理_检查换行符、空列、弃检；删除空列、生成变量分类文件（V7.1）2.xlsm\n",
      "1.预处理VBA/1.1预处理_检查空列、检查弃检、删除空列、生成变量分类文件（V6.3）.xlsm\n",
      "1.预处理VBA/1.2拆分为数值类、文本类文件（屏蔽生成变量对应表）（V2.6）.xlsm\n",
      "1.预处理VBA/1.3数值类文件附加未初步转换source列（V1.1）.xlsm\n",
      "1.预处理VBA/2.0+2检查二次转换文件.txt\n",
      "2.数值清洗VBA/2.0文本格式数字转换+全局替换特殊符号（V0.5）（复制代码到需处理文件）.txt\n",
      "2.数值清洗VBA/2.1二次转换前-规范数据生成等辅助处理.txt\n",
      "3.最终结果vba/2.1数值类_变量合并（V4.5.1）（只合并，不判断重复值）.xlsm\n",
      "3.最终结果vba/2.2数值类_处理变量合并后3文件重复值（V0.9）.xlsm\n",
      "3.最终结果vba/2.n数值类-最终检查公式生成.xlsx\n",
      "文本类预处理/3.1文本类_复制小结（需处理内容复制到本文件）（V2.5）.xlsm\n",
      "文本类预处理/3.2文本类_变量复制_表头整理_确保原始名不重（V1.2）.xlsm\n",
      "文本类预处理/3.4文本类_统计毛工作量（V1.1）（区分任何差异）.xlsm\n"
     ]
    }
   ],
   "source": [
    "# ZipFile.namelist()\n",
    "# 获取zip文档内所有文件的名称列表\n",
    "\n",
    "nl=zf.namelist()\n",
    "print(nl)\n",
    "for n in nl:\n",
    "    print(n)"
   ]
  },
  {
   "cell_type": "code",
   "execution_count": 43,
   "metadata": {},
   "outputs": [],
   "source": [
    "# ZipFile.extractall)([path[,members[,pwd]]])\n",
    "# 解压zip文档中的所有文件到当前目录。参数members的默认值为zip文档内的所有文件名称列表\n",
    "# 解压时如果目标文件夹中存在同名文件，则默认覆盖\n"
   ]
  },
  {
   "cell_type": "markdown",
   "metadata": {},
   "source": [
    "# random\n",
    "- 随机数\n",
    "- 所有的随机模块都是伪随机\n",
    "\n",
    "\n"
   ]
  },
  {
   "cell_type": "code",
   "execution_count": 44,
   "metadata": {},
   "outputs": [],
   "source": [
    "import random"
   ]
  },
  {
   "cell_type": "code",
   "execution_count": 96,
   "metadata": {},
   "outputs": [
    {
     "name": "stdout",
     "output_type": "stream",
     "text": [
      "0.6059444387102274\n",
      "45\n"
     ]
    }
   ],
   "source": [
    "# random（） 获取0-1之间的随机小数\n",
    "# 格式：random.random()\n",
    "# 返回值：随机0-1之间的小数\n",
    "\n",
    "print(random.random())\n",
    "r=random.random()\n",
    "\n",
    "print(int(r*100))"
   ]
  },
  {
   "cell_type": "code",
   "execution_count": 123,
   "metadata": {},
   "outputs": [
    {
     "name": "stdout",
     "output_type": "stream",
     "text": [
      "[0, 1, 2, 3, 4, 5, 6, 7, 8, 9]\n",
      "3\n"
     ]
    }
   ],
   "source": [
    "#  choice() 随机返回序列中的某个值\n",
    "# 格式：random.choice(序列)\n",
    "# 返回值：序列中的某个值\n",
    "\n",
    "l=[i for i in range(10)]\n",
    "print(l)\n",
    "l1=random.choice(l)\n",
    "print(l1)"
   ]
  },
  {
   "cell_type": "code",
   "execution_count": 134,
   "metadata": {},
   "outputs": [
    {
     "name": "stdout",
     "output_type": "stream",
     "text": [
      "[6, 0, 8, 1, 2, 4, 9, 3, 5, 7]\n",
      "None\n"
     ]
    }
   ],
   "source": [
    "# shuffle() 随机打乱列表\n",
    "# 格式：random.shuffle(列表)\n",
    "# 返回值：None,原地打乱，打乱原列表\n",
    "\n",
    "l2=random.shuffle(l)\n",
    "print(l)\n",
    "print(l2)"
   ]
  },
  {
   "cell_type": "code",
   "execution_count": 143,
   "metadata": {},
   "outputs": [
    {
     "name": "stdout",
     "output_type": "stream",
     "text": [
      "78\n"
     ]
    }
   ],
   "source": [
    "# 返回随机整数\n",
    "print(random.randint(0,100))"
   ]
  },
  {
   "cell_type": "code",
   "execution_count": null,
   "metadata": {},
   "outputs": [],
   "source": []
  },
  {
   "cell_type": "code",
   "execution_count": null,
   "metadata": {},
   "outputs": [],
   "source": []
  },
  {
   "cell_type": "code",
   "execution_count": null,
   "metadata": {},
   "outputs": [],
   "source": []
  },
  {
   "cell_type": "code",
   "execution_count": null,
   "metadata": {},
   "outputs": [],
   "source": []
  },
  {
   "cell_type": "code",
   "execution_count": null,
   "metadata": {},
   "outputs": [],
   "source": []
  },
  {
   "cell_type": "code",
   "execution_count": null,
   "metadata": {},
   "outputs": [],
   "source": []
  },
  {
   "cell_type": "code",
   "execution_count": null,
   "metadata": {},
   "outputs": [],
   "source": []
  },
  {
   "cell_type": "code",
   "execution_count": null,
   "metadata": {},
   "outputs": [],
   "source": []
  },
  {
   "cell_type": "code",
   "execution_count": null,
   "metadata": {},
   "outputs": [],
   "source": []
  }
 ],
 "metadata": {
  "kernelspec": {
   "display_name": "Python 3",
   "language": "python",
   "name": "python3"
  },
  "language_info": {
   "codemirror_mode": {
    "name": "ipython",
    "version": 3
   },
   "file_extension": ".py",
   "mimetype": "text/x-python",
   "name": "python",
   "nbconvert_exporter": "python",
   "pygments_lexer": "ipython3",
   "version": "3.6.5"
  }
 },
 "nbformat": 4,
 "nbformat_minor": 2
}
